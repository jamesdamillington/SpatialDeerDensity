{
 "cells": [
  {
   "cell_type": "markdown",
   "metadata": {},
   "source": [
    "# Modelling Spatial Deer Distribution using Python"
   ]
  },
  {
   "cell_type": "markdown",
   "metadata": {
    "lines_to_next_cell": 0
   },
   "source": [
    "This notebook contains **Python code** and exercises associated with concepts discussed in lecture and [Millington _et al._ (2010)](http://dx.doi.org/10.1016/j.foreco.2009.12). The notebook _Modelling Spatial Deer Distribution using R_ provides the same examples but using R code. Compare the two notebooks to understand how the languages differ."
   ]
  },
  {
   "cell_type": "code",
   "execution_count": 1,
   "metadata": {},
   "outputs": [],
   "source": [
    "import pandas as pd               #for data\n",
    "import seaborn as sns             #for plotting\n",
    "import matplotlib.pyplot as plt   #for plotting\n",
    "import statsmodels.api as sm      #for regression modelling\n",
    "from scipy import stats           #for kendal tau\n",
    "from sklearn import linear_model  #for cross-validation\n",
    "from sklearn import model_selection\n",
    "import numpy as np                #for mean and variance \n",
    "import numpy.ma as ma             #for masked array\n",
    "import rasterio                   #for reading raster data\n",
    "from rasterio.plot import show    #for plotting raster data"
   ]
  },
  {
   "cell_type": "markdown",
   "metadata": {
    "lines_to_next_cell": 0
   },
   "source": [
    "## Section 1: Loading and Checking Data"
   ]
  },
  {
   "cell_type": "code",
   "execution_count": 2,
   "metadata": {},
   "outputs": [],
   "source": [
    "LOI200 = pd.read_csv(\"LOI200.csv\") #read the file to a data.frame (assumes data are in same directory as notebook)"
   ]
  },
  {
   "cell_type": "markdown",
   "metadata": {
    "lines_to_next_cell": 0
   },
   "source": [
    "Now view the first few lines of the data:"
   ]
  },
  {
   "cell_type": "code",
   "execution_count": 3,
   "metadata": {},
   "outputs": [
    {
     "data": {
      "text/html": [
       "<div>\n",
       "<style scoped>\n",
       "    .dataframe tbody tr th:only-of-type {\n",
       "        vertical-align: middle;\n",
       "    }\n",
       "\n",
       "    .dataframe tbody tr th {\n",
       "        vertical-align: top;\n",
       "    }\n",
       "\n",
       "    .dataframe thead th {\n",
       "        text-align: right;\n",
       "    }\n",
       "</style>\n",
       "<table border=\"1\" class=\"dataframe\">\n",
       "  <thead>\n",
       "    <tr style=\"text-align: right;\">\n",
       "      <th></th>\n",
       "      <th>Site</th>\n",
       "      <th>logDD</th>\n",
       "      <th>DistanceLC</th>\n",
       "      <th>NewDBH</th>\n",
       "      <th>NewBA</th>\n",
       "      <th>SnowDepth</th>\n",
       "      <th>LCProp</th>\n",
       "      <th>Ecoregion</th>\n",
       "      <th>AspenProp</th>\n",
       "      <th>HdwdProp</th>\n",
       "      <th>LCProp.1</th>\n",
       "      <th>CountStands</th>\n",
       "    </tr>\n",
       "  </thead>\n",
       "  <tbody>\n",
       "    <tr>\n",
       "      <th>0</th>\n",
       "      <td>2</td>\n",
       "      <td>1.72</td>\n",
       "      <td>0.158</td>\n",
       "      <td>19.9</td>\n",
       "      <td>19.3</td>\n",
       "      <td>238</td>\n",
       "      <td>0.09</td>\n",
       "      <td>1</td>\n",
       "      <td>0.0</td>\n",
       "      <td>0.77</td>\n",
       "      <td>0.09</td>\n",
       "      <td>5</td>\n",
       "    </tr>\n",
       "    <tr>\n",
       "      <th>1</th>\n",
       "      <td>3</td>\n",
       "      <td>1.01</td>\n",
       "      <td>0.301</td>\n",
       "      <td>26.8</td>\n",
       "      <td>13.8</td>\n",
       "      <td>223</td>\n",
       "      <td>0.00</td>\n",
       "      <td>1</td>\n",
       "      <td>0.0</td>\n",
       "      <td>1.00</td>\n",
       "      <td>0.00</td>\n",
       "      <td>1</td>\n",
       "    </tr>\n",
       "    <tr>\n",
       "      <th>2</th>\n",
       "      <td>4</td>\n",
       "      <td>0.98</td>\n",
       "      <td>0.240</td>\n",
       "      <td>29.5</td>\n",
       "      <td>19.0</td>\n",
       "      <td>163</td>\n",
       "      <td>0.00</td>\n",
       "      <td>1</td>\n",
       "      <td>0.0</td>\n",
       "      <td>1.00</td>\n",
       "      <td>0.00</td>\n",
       "      <td>1</td>\n",
       "    </tr>\n",
       "    <tr>\n",
       "      <th>3</th>\n",
       "      <td>5</td>\n",
       "      <td>1.24</td>\n",
       "      <td>0.250</td>\n",
       "      <td>28.5</td>\n",
       "      <td>14.0</td>\n",
       "      <td>176</td>\n",
       "      <td>0.00</td>\n",
       "      <td>1</td>\n",
       "      <td>0.0</td>\n",
       "      <td>1.00</td>\n",
       "      <td>0.00</td>\n",
       "      <td>1</td>\n",
       "    </tr>\n",
       "    <tr>\n",
       "      <th>4</th>\n",
       "      <td>6</td>\n",
       "      <td>1.08</td>\n",
       "      <td>0.121</td>\n",
       "      <td>25.6</td>\n",
       "      <td>18.1</td>\n",
       "      <td>152</td>\n",
       "      <td>0.08</td>\n",
       "      <td>1</td>\n",
       "      <td>0.0</td>\n",
       "      <td>0.92</td>\n",
       "      <td>0.08</td>\n",
       "      <td>5</td>\n",
       "    </tr>\n",
       "  </tbody>\n",
       "</table>\n",
       "</div>"
      ],
      "text/plain": [
       "   Site  logDD  DistanceLC  NewDBH  NewBA  SnowDepth  LCProp  Ecoregion  \\\n",
       "0     2   1.72       0.158    19.9   19.3        238    0.09          1   \n",
       "1     3   1.01       0.301    26.8   13.8        223    0.00          1   \n",
       "2     4   0.98       0.240    29.5   19.0        163    0.00          1   \n",
       "3     5   1.24       0.250    28.5   14.0        176    0.00          1   \n",
       "4     6   1.08       0.121    25.6   18.1        152    0.08          1   \n",
       "\n",
       "   AspenProp  HdwdProp  LCProp.1  CountStands  \n",
       "0        0.0      0.77      0.09            5  \n",
       "1        0.0      1.00      0.00            1  \n",
       "2        0.0      1.00      0.00            1  \n",
       "3        0.0      1.00      0.00            1  \n",
       "4        0.0      0.92      0.08            5  "
      ]
     },
     "execution_count": 3,
     "metadata": {},
     "output_type": "execute_result"
    }
   ],
   "source": [
    "LOI200.head()                                 #view the first part of the data (to check it read properly)"
   ]
  },
  {
   "cell_type": "markdown",
   "metadata": {},
   "source": [
    "And see a summary of the variables in the data file:"
   ]
  },
  {
   "cell_type": "code",
   "execution_count": 4,
   "metadata": {},
   "outputs": [
    {
     "data": {
      "text/html": [
       "<div>\n",
       "<style scoped>\n",
       "    .dataframe tbody tr th:only-of-type {\n",
       "        vertical-align: middle;\n",
       "    }\n",
       "\n",
       "    .dataframe tbody tr th {\n",
       "        vertical-align: top;\n",
       "    }\n",
       "\n",
       "    .dataframe thead th {\n",
       "        text-align: right;\n",
       "    }\n",
       "</style>\n",
       "<table border=\"1\" class=\"dataframe\">\n",
       "  <thead>\n",
       "    <tr style=\"text-align: right;\">\n",
       "      <th></th>\n",
       "      <th>Site</th>\n",
       "      <th>logDD</th>\n",
       "      <th>DistanceLC</th>\n",
       "      <th>NewDBH</th>\n",
       "      <th>NewBA</th>\n",
       "      <th>SnowDepth</th>\n",
       "      <th>LCProp</th>\n",
       "      <th>Ecoregion</th>\n",
       "      <th>AspenProp</th>\n",
       "      <th>HdwdProp</th>\n",
       "      <th>LCProp.1</th>\n",
       "      <th>CountStands</th>\n",
       "    </tr>\n",
       "  </thead>\n",
       "  <tbody>\n",
       "    <tr>\n",
       "      <th>count</th>\n",
       "      <td>51.000000</td>\n",
       "      <td>51.000000</td>\n",
       "      <td>51.000000</td>\n",
       "      <td>51.000000</td>\n",
       "      <td>51.000000</td>\n",
       "      <td>51.000000</td>\n",
       "      <td>51.000000</td>\n",
       "      <td>51.000000</td>\n",
       "      <td>51.000000</td>\n",
       "      <td>51.000000</td>\n",
       "      <td>51.000000</td>\n",
       "      <td>51.000000</td>\n",
       "    </tr>\n",
       "    <tr>\n",
       "      <th>mean</th>\n",
       "      <td>1840.686275</td>\n",
       "      <td>1.149804</td>\n",
       "      <td>0.285392</td>\n",
       "      <td>24.323529</td>\n",
       "      <td>21.296078</td>\n",
       "      <td>248.411765</td>\n",
       "      <td>0.037843</td>\n",
       "      <td>2.000000</td>\n",
       "      <td>0.123529</td>\n",
       "      <td>0.791373</td>\n",
       "      <td>0.037843</td>\n",
       "      <td>3.627451</td>\n",
       "    </tr>\n",
       "    <tr>\n",
       "      <th>std</th>\n",
       "      <td>1958.204478</td>\n",
       "      <td>0.362626</td>\n",
       "      <td>0.185569</td>\n",
       "      <td>4.864343</td>\n",
       "      <td>3.708798</td>\n",
       "      <td>56.621260</td>\n",
       "      <td>0.097597</td>\n",
       "      <td>1.216553</td>\n",
       "      <td>0.173687</td>\n",
       "      <td>0.220273</td>\n",
       "      <td>0.097597</td>\n",
       "      <td>2.097244</td>\n",
       "    </tr>\n",
       "    <tr>\n",
       "      <th>min</th>\n",
       "      <td>2.000000</td>\n",
       "      <td>0.330000</td>\n",
       "      <td>0.010000</td>\n",
       "      <td>13.800000</td>\n",
       "      <td>13.800000</td>\n",
       "      <td>152.000000</td>\n",
       "      <td>0.000000</td>\n",
       "      <td>1.000000</td>\n",
       "      <td>0.000000</td>\n",
       "      <td>0.190000</td>\n",
       "      <td>0.000000</td>\n",
       "      <td>1.000000</td>\n",
       "    </tr>\n",
       "    <tr>\n",
       "      <th>25%</th>\n",
       "      <td>29.500000</td>\n",
       "      <td>0.920000</td>\n",
       "      <td>0.163000</td>\n",
       "      <td>21.300000</td>\n",
       "      <td>18.600000</td>\n",
       "      <td>205.500000</td>\n",
       "      <td>0.000000</td>\n",
       "      <td>1.000000</td>\n",
       "      <td>0.000000</td>\n",
       "      <td>0.680000</td>\n",
       "      <td>0.000000</td>\n",
       "      <td>2.000000</td>\n",
       "    </tr>\n",
       "    <tr>\n",
       "      <th>50%</th>\n",
       "      <td>837.000000</td>\n",
       "      <td>1.170000</td>\n",
       "      <td>0.233000</td>\n",
       "      <td>24.900000</td>\n",
       "      <td>20.900000</td>\n",
       "      <td>233.000000</td>\n",
       "      <td>0.000000</td>\n",
       "      <td>1.000000</td>\n",
       "      <td>0.020000</td>\n",
       "      <td>0.850000</td>\n",
       "      <td>0.000000</td>\n",
       "      <td>3.000000</td>\n",
       "    </tr>\n",
       "    <tr>\n",
       "      <th>75%</th>\n",
       "      <td>4142.000000</td>\n",
       "      <td>1.395000</td>\n",
       "      <td>0.355500</td>\n",
       "      <td>27.150000</td>\n",
       "      <td>23.450000</td>\n",
       "      <td>299.000000</td>\n",
       "      <td>0.015000</td>\n",
       "      <td>3.000000</td>\n",
       "      <td>0.200000</td>\n",
       "      <td>0.985000</td>\n",
       "      <td>0.015000</td>\n",
       "      <td>5.000000</td>\n",
       "    </tr>\n",
       "    <tr>\n",
       "      <th>max</th>\n",
       "      <td>5342.000000</td>\n",
       "      <td>1.810000</td>\n",
       "      <td>0.930000</td>\n",
       "      <td>34.500000</td>\n",
       "      <td>29.200000</td>\n",
       "      <td>372.000000</td>\n",
       "      <td>0.460000</td>\n",
       "      <td>4.000000</td>\n",
       "      <td>0.720000</td>\n",
       "      <td>1.000000</td>\n",
       "      <td>0.460000</td>\n",
       "      <td>9.000000</td>\n",
       "    </tr>\n",
       "  </tbody>\n",
       "</table>\n",
       "</div>"
      ],
      "text/plain": [
       "              Site      logDD  DistanceLC     NewDBH      NewBA   SnowDepth  \\\n",
       "count    51.000000  51.000000   51.000000  51.000000  51.000000   51.000000   \n",
       "mean   1840.686275   1.149804    0.285392  24.323529  21.296078  248.411765   \n",
       "std    1958.204478   0.362626    0.185569   4.864343   3.708798   56.621260   \n",
       "min       2.000000   0.330000    0.010000  13.800000  13.800000  152.000000   \n",
       "25%      29.500000   0.920000    0.163000  21.300000  18.600000  205.500000   \n",
       "50%     837.000000   1.170000    0.233000  24.900000  20.900000  233.000000   \n",
       "75%    4142.000000   1.395000    0.355500  27.150000  23.450000  299.000000   \n",
       "max    5342.000000   1.810000    0.930000  34.500000  29.200000  372.000000   \n",
       "\n",
       "          LCProp  Ecoregion  AspenProp   HdwdProp   LCProp.1  CountStands  \n",
       "count  51.000000  51.000000  51.000000  51.000000  51.000000    51.000000  \n",
       "mean    0.037843   2.000000   0.123529   0.791373   0.037843     3.627451  \n",
       "std     0.097597   1.216553   0.173687   0.220273   0.097597     2.097244  \n",
       "min     0.000000   1.000000   0.000000   0.190000   0.000000     1.000000  \n",
       "25%     0.000000   1.000000   0.000000   0.680000   0.000000     2.000000  \n",
       "50%     0.000000   1.000000   0.020000   0.850000   0.000000     3.000000  \n",
       "75%     0.015000   3.000000   0.200000   0.985000   0.015000     5.000000  \n",
       "max     0.460000   4.000000   0.720000   1.000000   0.460000     9.000000  "
      ]
     },
     "execution_count": 4,
     "metadata": {},
     "output_type": "execute_result"
    }
   ],
   "source": [
    "LOI200.describe()                              #view a summary of the data"
   ]
  },
  {
   "cell_type": "markdown",
   "metadata": {
    "lines_to_next_cell": 0
   },
   "source": [
    "Then we use some simple plotting functions to visualise the data:"
   ]
  },
  {
   "cell_type": "code",
   "execution_count": 5,
   "metadata": {
    "lines_to_next_cell": 0
   },
   "outputs": [
    {
     "data": {
      "text/plain": [
       "<seaborn.axisgrid.PairGrid at 0x27dbb85ce80>"
      ]
     },
     "execution_count": 5,
     "metadata": {},
     "output_type": "execute_result"
    },
    {
     "data": {
      "image/png": "[encoded data removed]",
      "text/plain": [
       "<Figure size 900x900 with 30 Axes>"
      ]
     },
     "metadata": {
      "needs_background": "light"
     },
     "output_type": "display_data"
    }
   ],
   "source": [
    "#matrix scatter plot for 2nd to 6th columns (python is 0 indexed!)\n",
    "#no built-in function so use seaborn \n",
    "sns.pairplot(LOI200.iloc[:,1:6])    "
   ]
  },
  {
   "cell_type": "code",
   "execution_count": 6,
   "metadata": {},
   "outputs": [
    {
     "data": {
      "text/plain": [
       "Text(0, 0.5, 'log(Deer Density)')"
      ]
     },
     "execution_count": 6,
     "metadata": {},
     "output_type": "execute_result"
    },
    {
     "data": {
      "image/png": "[encoded data removed]",
      "text/plain": [
       "<Figure size 432x288 with 1 Axes>"
      ]
     },
     "metadata": {
      "needs_background": "light"
     },
     "output_type": "display_data"
    }
   ],
   "source": [
    "#seaborn scatter with axis labels\n",
    "sns.scatterplot(data=LOI200, x='DistanceLC', y='logDD')\n",
    "plt.xlabel(\"Distance LC (km)\")\n",
    "plt.ylabel(\"log(Deer Density)\")        "
   ]
  },
  {
   "cell_type": "markdown",
   "metadata": {},
   "source": [
    "## Section 2: Correlation and Simple Linear Regression\n",
    "\n",
    "Now that we have familiarised ourselves with the data, we can do some simple correlations to examine the relationship of deer density with the distance to the nearest lowland conifer stand.  "
   ]
  },
  {
   "cell_type": "code",
   "execution_count": 7,
   "metadata": {},
   "outputs": [
    {
     "name": "stdout",
     "output_type": "stream",
     "text": [
      "            DistanceLC     logDD\n",
      "DistanceLC    1.000000 -0.371427\n",
      "logDD        -0.371427  1.000000\n",
      "            DistanceLC     logDD\n",
      "DistanceLC    1.000000 -0.211978\n",
      "logDD        -0.211978  1.000000\n"
     ]
    }
   ],
   "source": [
    "print(LOI200[['DistanceLC','logDD']].corr(method='pearson')) #calculate pearson correlation coefficient (r)\n",
    "print(LOI200[['DistanceLC','logDD']].corr(method='kendall')) #calculate kendall's correlation coefficient (tau)"
   ]
  },
  {
   "cell_type": "markdown",
   "metadata": {
    "lines_to_next_cell": 0
   },
   "source": [
    "We find some weak correlations (pandas does not give us an indication of statistical significance). \n",
    "\n",
    "The next piece of analysis we will do is to fit simple linear regression models to predict log(deer density) from environmental co-variates."
   ]
  },
  {
   "cell_type": "markdown",
   "metadata": {},
   "source": [
    "We could use `linear_model` from the `sklearn` package to fit our simple linear regression:"
   ]
  },
  {
   "cell_type": "code",
   "execution_count": 8,
   "metadata": {},
   "outputs": [
    {
     "data": {
      "text/plain": [
       "LinearRegression()"
      ]
     },
     "execution_count": 8,
     "metadata": {},
     "output_type": "execute_result"
    }
   ],
   "source": [
    "df_X = LOI200['DistanceLC']\n",
    "df_y = LOI200['logDD']                  \n",
    "\n",
    "new_df_X = df_X.values\n",
    "new_df_X = new_df_X.reshape(-1,1)\n",
    "\n",
    "#fit the model \n",
    "mod_dlc  = linear_model.LinearRegression()\n",
    "mod_dlc .fit(new_df_X, df_y)\n",
    "\n",
    "mod_dlc"
   ]
  },
  {
   "cell_type": "markdown",
   "metadata": {},
   "source": [
    "However, there is no nice 'summary' method for `sklearn` `linear_model`s as there is in R. We can access model coefficients and intercept directly:"
   ]
  },
  {
   "cell_type": "code",
   "execution_count": 9,
   "metadata": {},
   "outputs": [
    {
     "name": "stdout",
     "output_type": "stream",
     "text": [
      "1.3569464107166036\n",
      "[-0.72581704]\n"
     ]
    }
   ],
   "source": [
    "print(mod_dlc.intercept_)\n",
    "print(mod_dlc.coef_)"
   ]
  },
  {
   "cell_type": "markdown",
   "metadata": {},
   "source": [
    "But really this approach seems more suited to working with other computational tools for things like cross-validation (as we'll see below). For more straight-forward model fitting and analysis, we can use functions available in the `statsmodels` package. Read the docs and more detail [here](https://www.statsmodels.org/dev/examples/notebooks/generated/ols.html). Specifically we can use the `OLS` function from the `statsmodels.api`. "
   ]
  },
  {
   "cell_type": "markdown",
   "metadata": {},
   "source": [
    "Using the `OLS` function from `statsmodels` to fit a regression requires we create an `OLS` object first, then use the `fit` [method](https://www.statsmodels.org/dev/generated/statsmodels.regression.linear_model.OLS.fit.html) on that object to create a `RegressionResults` [object](https://www.statsmodels.org/dev/generated/statsmodels.regression.linear_model.RegressionResults.html#statsmodels.regression.linear_model.RegressionResults). An easy way to create an `OLS` object is to use the `from_formula` [method](https://www.statsmodels.org/dev/dev/generated/statsmodels.base.model.Model.from_formula.html?highlight=from_formula#statsmodels.base.model.Model.from_formula) to pass the equation of the model we want to fit (as well as indicating what the data are that we are using):"
   ]
  },
  {
   "cell_type": "code",
   "execution_count": 10,
   "metadata": {},
   "outputs": [
    {
     "name": "stdout",
     "output_type": "stream",
     "text": [
      "                            OLS Regression Results                            \n",
      "==============================================================================\n",
      "Dep. Variable:                  logDD   R-squared:                       0.138\n",
      "Model:                            OLS   Adj. R-squared:                  0.120\n",
      "Method:                 Least Squares   F-statistic:                     7.842\n",
      "Date:                Wed, 11 Nov 2020   Prob (F-statistic):            0.00729\n",
      "Time:                        16:34:22   Log-Likelihood:                -16.342\n",
      "No. Observations:                  51   AIC:                             36.68\n",
      "Df Residuals:                      49   BIC:                             40.55\n",
      "Df Model:                           1                                         \n",
      "Covariance Type:            nonrobust                                         \n",
      "==============================================================================\n",
      "                 coef    std err          t      P>|t|      [0.025      0.975]\n",
      "------------------------------------------------------------------------------\n",
      "Intercept      1.3569      0.088     15.424      0.000       1.180       1.534\n",
      "DistanceLC    -0.7258      0.259     -2.800      0.007      -1.247      -0.205\n",
      "==============================================================================\n",
      "Omnibus:                        0.545   Durbin-Watson:                   2.058\n",
      "Prob(Omnibus):                  0.761   Jarque-Bera (JB):                0.599\n",
      "Skew:                          -0.228   Prob(JB):                        0.741\n",
      "Kurtosis:                       2.728   Cond. No.                         5.90\n",
      "==============================================================================\n",
      "\n",
      "Notes:\n",
      "[1] Standard Errors assume that the covariance matrix of the errors is correctly specified.\n"
     ]
    }
   ],
   "source": [
    "#requires import statsmodels.api as sm\n",
    "mod_dlc = sm.OLS.from_formula(\"logDD ~ DistanceLC\", data = LOI200) \n",
    "mod_dlc_RR = mod_dlc.fit()\n",
    "print(mod_dlc_RR.summary())"
   ]
  },
  {
   "cell_type": "markdown",
   "metadata": {},
   "source": [
    "Let's see how this model looks using a scatter plot of the variables - seaborn will fit a regression with confidence envelope for us (but note we have less control than in R)"
   ]
  },
  {
   "cell_type": "code",
   "execution_count": 11,
   "metadata": {},
   "outputs": [
    {
     "data": {
      "image/png": "[encoded data removed]",
      "text/plain": [
       "<Figure size 576x576 with 1 Axes>"
      ]
     },
     "metadata": {
      "needs_background": "light"
     },
     "output_type": "display_data"
    }
   ],
   "source": [
    "fig, ax = plt.subplots(1,1,figsize=(8,8))\n",
    "g = sns.regplot(x=LOI200.DistanceLC, y=LOI200.logDD) "
   ]
  },
  {
   "cell_type": "markdown",
   "metadata": {
    "lines_to_next_cell": 0
   },
   "source": [
    "From the [statsmodel docs](https://www.statsmodels.org/dev/generated/statsmodels.regression.linear_model.RegressionResults.html) we can see that we can access the model residuals using `.resid`. We can use this to plot our own histogram of model residuals, for example:"
   ]
  },
  {
   "cell_type": "code",
   "execution_count": 12,
   "metadata": {},
   "outputs": [
    {
     "data": {
      "text/plain": [
       "<AxesSubplot:>"
      ]
     },
     "execution_count": 12,
     "metadata": {},
     "output_type": "execute_result"
    },
    {
     "data": {
      "image/png": "[encoded data removed]",
      "text/plain": [
       "<Figure size 432x288 with 1 Axes>"
      ]
     },
     "metadata": {
      "needs_background": "light"
     },
     "output_type": "display_data"
    }
   ],
   "source": [
    "mod_dlc_RR.resid.hist(bins=8)           "
   ]
  },
  {
   "cell_type": "markdown",
   "metadata": {
    "lines_to_next_cell": 0
   },
   "source": [
    "This plot shows that the residuals are reasonably normally distributed and that we are likely not violating the assumptions of simple linear regression. "
   ]
  },
  {
   "cell_type": "markdown",
   "metadata": {
    "lines_to_next_cell": 0
   },
   "source": [
    "R provides built-in diagnostic plotting functions for regression model objects. `statsmodels` in python doesn't offer this, but there are [relatively straight-forward ways to run diagnostics](https://www.statsmodels.org/dev/examples/notebooks/generated/regression_diagnostics.html).   "
   ]
  },
  {
   "cell_type": "markdown",
   "metadata": {
    "lines_to_next_cell": 0
   },
   "source": [
    "To get some other useful model outputs, we need to get items from the model summary:"
   ]
  },
  {
   "cell_type": "code",
   "execution_count": 13,
   "metadata": {},
   "outputs": [
    {
     "data": {
      "text/plain": [
       "Intercept     1.357\n",
       "DistanceLC   -0.726\n",
       "dtype: float64"
      ]
     },
     "execution_count": 13,
     "metadata": {},
     "output_type": "execute_result"
    }
   ],
   "source": [
    "round(mod_dlc_RR.params,3)    #directly access the model coefficients "
   ]
  },
  {
   "cell_type": "code",
   "execution_count": 14,
   "metadata": {},
   "outputs": [
    {
     "data": {
      "text/plain": [
       "0.14"
      ]
     },
     "execution_count": 14,
     "metadata": {},
     "output_type": "execute_result"
    }
   ],
   "source": [
    "round(mod_dlc_RR.rsquared,2)  #directly access the r.squared of the model"
   ]
  },
  {
   "cell_type": "code",
   "execution_count": 15,
   "metadata": {},
   "outputs": [
    {
     "data": {
      "text/plain": [
       "Intercept     0.000\n",
       "DistanceLC    0.007\n",
       "dtype: float64"
      ]
     },
     "execution_count": 15,
     "metadata": {},
     "output_type": "execute_result"
    }
   ],
   "source": [
    "round(mod_dlc_RR.pvalues,3)"
   ]
  },
  {
   "cell_type": "markdown",
   "metadata": {},
   "source": [
    "The code in this section has provided all we need to know to calculate the values in the first row of Table 1 in Millington et al. (2010)."
   ]
  },
  {
   "cell_type": "markdown",
   "metadata": {},
   "source": [
    "### Task 1.\n",
    "Use the code above to help you calculate values for the four other variables in Table 1 that have p < 0.1. Check you can get values from your code that correspond to those in Table 1 of Millington _et al._ (2010) "
   ]
  },
  {
   "cell_type": "code",
   "execution_count": 16,
   "metadata": {},
   "outputs": [
    {
     "name": "stdout",
     "output_type": "stream",
     "text": [
      "                            OLS Regression Results                            \n",
      "==============================================================================\n",
      "Dep. Variable:                  logDD   R-squared:                       0.138\n",
      "Model:                            OLS   Adj. R-squared:                  0.120\n",
      "Method:                 Least Squares   F-statistic:                     7.842\n",
      "Date:                Wed, 11 Nov 2020   Prob (F-statistic):            0.00729\n",
      "Time:                        16:34:23   Log-Likelihood:                -16.342\n",
      "No. Observations:                  51   AIC:                             36.68\n",
      "Df Residuals:                      49   BIC:                             40.55\n",
      "Df Model:                           1                                         \n",
      "Covariance Type:            nonrobust                                         \n",
      "==============================================================================\n",
      "                 coef    std err          t      P>|t|      [0.025      0.975]\n",
      "------------------------------------------------------------------------------\n",
      "Intercept      1.3569      0.088     15.424      0.000       1.180       1.534\n",
      "DistanceLC    -0.7258      0.259     -2.800      0.007      -1.247      -0.205\n",
      "==============================================================================\n",
      "Omnibus:                        0.545   Durbin-Watson:                   2.058\n",
      "Prob(Omnibus):                  0.761   Jarque-Bera (JB):                0.599\n",
      "Skew:                          -0.228   Prob(JB):                        0.741\n",
      "Kurtosis:                       2.728   Cond. No.                         5.90\n",
      "==============================================================================\n",
      "\n",
      "Notes:\n",
      "[1] Standard Errors assume that the covariance matrix of the errors is correctly specified.\n",
      "                            OLS Regression Results                            \n",
      "==============================================================================\n",
      "Dep. Variable:                  logDD   R-squared:                       0.138\n",
      "Model:                            OLS   Adj. R-squared:                  0.120\n",
      "Method:                 Least Squares   F-statistic:                     7.842\n",
      "Date:                Wed, 11 Nov 2020   Prob (F-statistic):            0.00729\n",
      "Time:                        16:34:23   Log-Likelihood:                -16.342\n",
      "No. Observations:                  51   AIC:                             36.68\n",
      "Df Residuals:                      49   BIC:                             40.55\n",
      "Df Model:                           1                                         \n",
      "Covariance Type:            nonrobust                                         \n",
      "==============================================================================\n",
      "                 coef    std err          t      P>|t|      [0.025      0.975]\n",
      "------------------------------------------------------------------------------\n",
      "Intercept      1.3569      0.088     15.424      0.000       1.180       1.534\n",
      "DistanceLC    -0.7258      0.259     -2.800      0.007      -1.247      -0.205\n",
      "==============================================================================\n",
      "Omnibus:                        0.545   Durbin-Watson:                   2.058\n",
      "Prob(Omnibus):                  0.761   Jarque-Bera (JB):                0.599\n",
      "Skew:                          -0.228   Prob(JB):                        0.741\n",
      "Kurtosis:                       2.728   Cond. No.                         5.90\n",
      "==============================================================================\n",
      "\n",
      "Notes:\n",
      "[1] Standard Errors assume that the covariance matrix of the errors is correctly specified.\n",
      "                            OLS Regression Results                            \n",
      "==============================================================================\n",
      "Dep. Variable:                  logDD   R-squared:                       0.138\n",
      "Model:                            OLS   Adj. R-squared:                  0.120\n",
      "Method:                 Least Squares   F-statistic:                     7.842\n",
      "Date:                Wed, 11 Nov 2020   Prob (F-statistic):            0.00729\n",
      "Time:                        16:34:23   Log-Likelihood:                -16.342\n",
      "No. Observations:                  51   AIC:                             36.68\n",
      "Df Residuals:                      49   BIC:                             40.55\n",
      "Df Model:                           1                                         \n",
      "Covariance Type:            nonrobust                                         \n",
      "==============================================================================\n",
      "                 coef    std err          t      P>|t|      [0.025      0.975]\n",
      "------------------------------------------------------------------------------\n",
      "Intercept      1.3569      0.088     15.424      0.000       1.180       1.534\n",
      "DistanceLC    -0.7258      0.259     -2.800      0.007      -1.247      -0.205\n",
      "==============================================================================\n",
      "Omnibus:                        0.545   Durbin-Watson:                   2.058\n",
      "Prob(Omnibus):                  0.761   Jarque-Bera (JB):                0.599\n",
      "Skew:                          -0.228   Prob(JB):                        0.741\n",
      "Kurtosis:                       2.728   Cond. No.                         5.90\n",
      "==============================================================================\n",
      "\n",
      "Notes:\n",
      "[1] Standard Errors assume that the covariance matrix of the errors is correctly specified.\n",
      "                            OLS Regression Results                            \n",
      "==============================================================================\n",
      "Dep. Variable:                  logDD   R-squared:                       0.138\n",
      "Model:                            OLS   Adj. R-squared:                  0.120\n",
      "Method:                 Least Squares   F-statistic:                     7.842\n",
      "Date:                Wed, 11 Nov 2020   Prob (F-statistic):            0.00729\n",
      "Time:                        16:34:23   Log-Likelihood:                -16.342\n",
      "No. Observations:                  51   AIC:                             36.68\n",
      "Df Residuals:                      49   BIC:                             40.55\n",
      "Df Model:                           1                                         \n",
      "Covariance Type:            nonrobust                                         \n",
      "==============================================================================\n",
      "                 coef    std err          t      P>|t|      [0.025      0.975]\n",
      "------------------------------------------------------------------------------\n",
      "Intercept      1.3569      0.088     15.424      0.000       1.180       1.534\n",
      "DistanceLC    -0.7258      0.259     -2.800      0.007      -1.247      -0.205\n",
      "==============================================================================\n",
      "Omnibus:                        0.545   Durbin-Watson:                   2.058\n",
      "Prob(Omnibus):                  0.761   Jarque-Bera (JB):                0.599\n",
      "Skew:                          -0.228   Prob(JB):                        0.741\n",
      "Kurtosis:                       2.728   Cond. No.                         5.90\n",
      "==============================================================================\n",
      "\n",
      "Notes:\n",
      "[1] Standard Errors assume that the covariance matrix of the errors is correctly specified.\n"
     ]
    }
   ],
   "source": [
    "vars = ['NewDBH', 'NewBA', 'SnowDepth', 'LCProp']\n",
    "\n",
    "for var in vars:\n",
    "    form = \"logDD ~ \" + var\n",
    "    mod = sm.OLS.from_formula(form, data = LOI200) \n",
    "    mod_RR = mod_dlc.fit()\n",
    "    print(mod_RR.summary())"
   ]
  },
  {
   "cell_type": "markdown",
   "metadata": {
    "lines_to_next_cell": 0
   },
   "source": [
    "## Section 3. Multiple linear regression models\n",
    "Fitting linear regression models with more than one are almost as straighforward as for simple (univariate) linear regression models. We just need to add the additional variables into the model equation:"
   ]
  },
  {
   "cell_type": "code",
   "execution_count": 17,
   "metadata": {},
   "outputs": [
    {
     "name": "stdout",
     "output_type": "stream",
     "text": [
      "                            OLS Regression Results                            \n",
      "==============================================================================\n",
      "Dep. Variable:                  logDD   R-squared:                       0.202\n",
      "Model:                            OLS   Adj. R-squared:                  0.169\n",
      "Method:                 Least Squares   F-statistic:                     6.071\n",
      "Date:                Wed, 11 Nov 2020   Prob (F-statistic):            0.00446\n",
      "Time:                        16:34:24   Log-Likelihood:                -14.377\n",
      "No. Observations:                  51   AIC:                             34.75\n",
      "Df Residuals:                      48   BIC:                             40.55\n",
      "Df Model:                           2                                         \n",
      "Covariance Type:            nonrobust                                         \n",
      "==============================================================================\n",
      "                 coef    std err          t      P>|t|      [0.025      0.975]\n",
      "------------------------------------------------------------------------------\n",
      "Intercept      1.7960      0.240      7.493      0.000       1.314       2.278\n",
      "DistanceLC    -0.6243      0.257     -2.427      0.019      -1.141      -0.107\n",
      "NewDBH        -0.0192      0.010     -1.961      0.056      -0.039       0.000\n",
      "==============================================================================\n",
      "Omnibus:                        1.095   Durbin-Watson:                   2.136\n",
      "Prob(Omnibus):                  0.578   Jarque-Bera (JB):                1.143\n",
      "Skew:                          -0.304   Prob(JB):                        0.565\n",
      "Kurtosis:                       2.590   Cond. No.                         141.\n",
      "==============================================================================\n",
      "\n",
      "Notes:\n",
      "[1] Standard Errors assume that the covariance matrix of the errors is correctly specified.\n"
     ]
    }
   ],
   "source": [
    "mod_dlc_dbh = sm.OLS.from_formula(\"logDD ~ DistanceLC + NewDBH\", data = LOI200) \n",
    "mod_dlc_dbh_RR = mod_dlc_dbh.fit()\n",
    "print(mod_dlc_dbh_RR.summary())"
   ]
  },
  {
   "cell_type": "markdown",
   "metadata": {
    "lines_to_next_cell": 0
   },
   "source": [
    "To get a kendall correlation coefficient we need to output the predicted logDDs and then test using `kendalltau` from the [`stats` module of the `scipy` package](https://docs.scipy.org/doc/scipy/reference/stats.html):"
   ]
  },
  {
   "cell_type": "code",
   "execution_count": 18,
   "metadata": {},
   "outputs": [],
   "source": [
    "mod_dlc_dbh_RR_pred  = mod_dlc_dbh_RR.predict()"
   ]
  },
  {
   "cell_type": "code",
   "execution_count": 19,
   "metadata": {},
   "outputs": [
    {
     "data": {
      "text/plain": [
       "KendalltauResult(correlation=0.31144435727526765, pvalue=0.001294760740140621)"
      ]
     },
     "execution_count": 19,
     "metadata": {},
     "output_type": "execute_result"
    }
   ],
   "source": [
    "#requires from scipy import stats \n",
    "stats.kendalltau(LOI200['logDD'], mod_dlc_dbh_RR_pred)"
   ]
  },
  {
   "cell_type": "markdown",
   "metadata": {
    "lines_to_next_cell": 0
   },
   "source": [
    "### Task 2.\n",
    "Use the code above to write your own code to calculate the values in Table 2 of Millington _et al._ (2010) for the Full Model (all values except for cross-validation)"
   ]
  },
  {
   "cell_type": "code",
   "execution_count": 32,
   "metadata": {},
   "outputs": [
    {
     "name": "stdout",
     "output_type": "stream",
     "text": [
      "                            OLS Regression Results                            \n",
      "==============================================================================\n",
      "Dep. Variable:                  logDD   R-squared:                       0.138\n",
      "Model:                            OLS   Adj. R-squared:                  0.120\n",
      "Method:                 Least Squares   F-statistic:                     7.842\n",
      "Date:                Wed, 11 Nov 2020   Prob (F-statistic):            0.00729\n",
      "Time:                        16:44:20   Log-Likelihood:                -16.342\n",
      "No. Observations:                  51   AIC:                             36.68\n",
      "Df Residuals:                      49   BIC:                             40.55\n",
      "Df Model:                           1                                         \n",
      "Covariance Type:            nonrobust                                         \n",
      "==============================================================================\n",
      "                 coef    std err          t      P>|t|      [0.025      0.975]\n",
      "------------------------------------------------------------------------------\n",
      "Intercept      1.3569      0.088     15.424      0.000       1.180       1.534\n",
      "DistanceLC    -0.7258      0.259     -2.800      0.007      -1.247      -0.205\n",
      "==============================================================================\n",
      "Omnibus:                        0.545   Durbin-Watson:                   2.058\n",
      "Prob(Omnibus):                  0.761   Jarque-Bera (JB):                0.599\n",
      "Skew:                          -0.228   Prob(JB):                        0.741\n",
      "Kurtosis:                       2.728   Cond. No.                         5.90\n",
      "==============================================================================\n",
      "\n",
      "Notes:\n",
      "[1] Standard Errors assume that the covariance matrix of the errors is correctly specified.\n"
     ]
    }
   ],
   "source": [
    "mod_full = sm.OLS.from_formula(\"logDD ~ DistanceLC + NewDBH + NewBA + SnowDepth + LCProp\", data = LOI200) \n",
    "mod_full_RR = mod_full.fit()\n",
    "print(mod_full_RR.summary())"
   ]
  },
  {
   "cell_type": "markdown",
   "metadata": {},
   "source": [
    "## Section 4. Cross-validation\n",
    "To complete the bottom two lines of Table 2 in Millington et al. (2010) we need to run cross-validation. In python, we can use functionality from the [`sklearn` package](https://scikit-learn.org/stable/index.html) for [cross-validation](https://towardsdatascience.com/train-test-split-and-cross-validation-in-python-80b61beca4b6)."
   ]
  },
  {
   "cell_type": "markdown",
   "metadata": {},
   "source": [
    "First, we need to fit the model again using `sklearn` to create a model object that it will be able handle:  "
   ]
  },
  {
   "cell_type": "code",
   "execution_count": 21,
   "metadata": {},
   "outputs": [
    {
     "name": "stdout",
     "output_type": "stream",
     "text": [
      "[-0.62426055 -0.01924293]\n",
      "0.20188714479823788\n"
     ]
    }
   ],
   "source": [
    "#requires from sklearn import linear_model\n",
    "\n",
    "#create independent and dependent variables\n",
    "df_X = LOI200[['DistanceLC','NewDBH']]  \n",
    "df_y = LOI200['logDD']                  \n",
    "\n",
    "#fit the mode \n",
    "mod_dlc_dbh = linear_model.LinearRegression()\n",
    "mod_dlc_dbh.fit(df_X, df_y)\n",
    "\n",
    "#we can get simple otuputs\n",
    "print(mod_dlc_dbh.coef_)  #model coefficients\n",
    "print(mod_dlc_dbh.score(df_X, df_y)) #r2"
   ]
  },
  {
   "cell_type": "markdown",
   "metadata": {},
   "source": [
    "We can use the fitted model to estimate predicted values for all out observations:"
   ]
  },
  {
   "cell_type": "code",
   "execution_count": 22,
   "metadata": {
    "scrolled": true
   },
   "outputs": [
    {
     "name": "stdout",
     "output_type": "stream",
     "text": [
      "[1.31445149 1.09240601 1.07852999 1.09153031 1.22786442 1.25861025\n",
      " 1.39375348 1.40188111 1.26920179 1.29333578 1.10983992 1.21966079\n",
      " 0.7221226  0.74208057 1.02704633 1.24771325 1.1977969  1.15727759\n",
      " 0.91364667 1.25151032 1.11432501 1.36164386 1.19150278 1.3903231\n",
      " 1.33604918 1.02132243 1.09411813 1.23331599 1.16655937 1.33949179\n",
      " 1.06103232 1.13017683 0.91614624 0.94554412 1.26358344 1.21085486\n",
      " 1.27906244 1.26894423 1.08694832 0.96601468 1.03120146 1.10462142\n",
      " 1.11865809 1.08022987 1.37925932 1.24397993 1.01088543 0.79371877\n",
      " 1.06836892 1.09446394 1.32739418]\n"
     ]
    }
   ],
   "source": [
    "Predicted = mod_dlc_dbh.predict(df_X)\n",
    "print(Predicted)"
   ]
  },
  {
   "cell_type": "markdown",
   "metadata": {},
   "source": [
    "To do a single 5-fold cross validation for the regression model we would use:"
   ]
  },
  {
   "cell_type": "code",
   "execution_count": 23,
   "metadata": {},
   "outputs": [
    {
     "name": "stdout",
     "output_type": "stream",
     "text": [
      "[1.21845941 1.07065189 1.08371283 1.08650904 1.19039712 1.12197384\n",
      " 1.23551624 1.26699575 1.19220936 1.20778265 1.10035765 1.26993502\n",
      " 0.8013707  0.8502362  1.08343545 1.26781983 1.18497242 1.14390928\n",
      " 0.88777447 1.27163901 1.07945954 1.34764318 1.17010758 1.43716028\n",
      " 1.32688919 0.96953252 1.09114117 1.22610002 1.19497661 1.31311523\n",
      " 1.06431283 1.12699046 0.88459536 0.92051468 1.25220456 1.20959541\n",
      " 1.25281316 1.25981273 1.08094923 0.96084356 1.03434454 1.13706205\n",
      " 1.14639201 1.11277709 1.44334528 1.3019885  1.02785548 0.78127893\n",
      " 1.09817622 1.15812165 1.37994074]\n"
     ]
    }
   ],
   "source": [
    "#requires from sklearn import model_selection\n",
    "cvpred = model_selection.cross_val_predict(mod_dlc_dbh, df_X, df_y, cv=5)\n",
    "print(cvpred)"
   ]
  },
  {
   "cell_type": "markdown",
   "metadata": {},
   "source": [
    "This has created an array of predicted values based on models fit for each of the folds created (see `model_selection.KFold` for [more](https://scikit-learn.org/stable/modules/generated/sklearn.model_selection.KFold.html?highlight=kfold#sklearn.model_selection.KFold) on how the folds are created). "
   ]
  },
  {
   "cell_type": "markdown",
   "metadata": {},
   "source": [
    "Now append the predictors (from both all observations and the cross-validation) to the original data to allow us to calculate correlations for comparing between using all observed data vs k-folds:"
   ]
  },
  {
   "cell_type": "code",
   "execution_count": 24,
   "metadata": {},
   "outputs": [
    {
     "name": "stdout",
     "output_type": "stream",
     "text": [
      "r2 (obs):  0.202\n",
      "tau (obs):  0.311\n",
      "\n",
      "\n",
      "r2 (cv):  0.089\n",
      "tau (cv):  0.181\n"
     ]
    }
   ],
   "source": [
    "CVdata = LOI200\n",
    "CVdata['Predicted'] = Predicted\n",
    "CVdata['cvpred'] = cvpred\n",
    "\n",
    "#Predicted\n",
    "r = CVdata['logDD'].corr(CVdata['Predicted'])\n",
    "r2 = r**2\n",
    "t = CVdata['logDD'].corr(CVdata['Predicted'], method='kendall')\n",
    "    \n",
    "print(\"r2 (obs): \", round(r2,3))   \n",
    "print(\"tau (obs): \", round(t,3))\n",
    "print('\\n')\n",
    "\n",
    "#Cross Validated\n",
    "r = CVdata['logDD'].corr(CVdata['cvpred'])\n",
    "r2 = r**2\n",
    "t = CVdata['logDD'].corr(CVdata['cvpred'], method='kendall')\n",
    "    \n",
    "print(\"r2 (cv): \", round(r2,3))   \n",
    "print(\"tau (cv): \", round(t,3))"
   ]
  },
  {
   "cell_type": "markdown",
   "metadata": {},
   "source": [
    "But note how the caption of Table 2 indicates that \n",
    ">\"estimates for cross-validation results are 95% confidence intervals calculated from mean and variance of 100 repetitions.\" \n",
    "\n",
    "To do this we need to create a loop to run the cross-validation multiple times, storing the results so we can calculate the mean\n",
    "and variance:"
   ]
  },
  {
   "cell_type": "code",
   "execution_count": 25,
   "metadata": {},
   "outputs": [],
   "source": [
    "cv_r2 = []\n",
    "cv_tau = []\n",
    "\n",
    "for i in range(100):\n",
    "\n",
    "    kf = model_selection.KFold(n_splits=5,shuffle=True, random_state=i)  #needed to create random folds (using i)\n",
    "    cvpred = model_selection.cross_val_predict(mod_dlc_dbh, df_X, df_y, cv=kf)  #predict using current random folds\n",
    "    \n",
    "    #correlations\n",
    "    r = LOI200['logDD'].corr(pd.Series(cvpred))\n",
    "    tau = LOI200['logDD'].corr(pd.Series(cvpred), method='kendall')\n",
    "    \n",
    "    #append to list\n",
    "    cv_r2.append(r**2)\n",
    "    cv_tau.append(tau)\n",
    "  "
   ]
  },
  {
   "cell_type": "markdown",
   "metadata": {},
   "source": [
    "Now we can calculate mean and variance for r2 and tau"
   ]
  },
  {
   "cell_type": "code",
   "execution_count": 26,
   "metadata": {},
   "outputs": [
    {
     "name": "stdout",
     "output_type": "stream",
     "text": [
      "0.11282454846579283\n",
      "0.21431461453916778\n",
      "0.0018006481871323046\n",
      "0.0026672948598997956\n"
     ]
    }
   ],
   "source": [
    "print(np.mean(cv_r2))\n",
    "print(np.mean(cv_tau))\n",
    "print(1.96 * np.var(cv_r2))  \n",
    "print(1.96 * np.var(cv_tau))\n",
    "\n",
    "#printoptions precision does not work for numpy.float64! \n",
    "#see https://stackoverflow.com/questions/47637972/numpy-set-printoptions-precision-ignored-in-list-of-tuples"
   ]
  },
  {
   "cell_type": "markdown",
   "metadata": {},
   "source": [
    "### Task 3.\n",
    "\n",
    "Build on the code above to calculate the cross-validation values for the 'Full' model"
   ]
  },
  {
   "cell_type": "code",
   "execution_count": 27,
   "metadata": {},
   "outputs": [
    {
     "name": "stdout",
     "output_type": "stream",
     "text": [
      "0.10024182810181602\n",
      "0.20970586723201354\n",
      "0.0034268208509049053\n",
      "0.006023408909507018\n"
     ]
    }
   ],
   "source": [
    "#create independent and dependent variables\n",
    "df_X_f = LOI200[['DistanceLC','NewDBH','NewBA', 'SnowDepth', 'LCProp']]  \n",
    "df_y = LOI200['logDD']                  \n",
    "\n",
    "#fit the mode \n",
    "mod_full = linear_model.LinearRegression()\n",
    "mod_full.fit(df_X_f, df_y)\n",
    "\n",
    "Predicted_f = mod_full.predict(df_X_f)\n",
    "cvpred_f = model_selection.cross_val_predict(mod_full, df_X_f, df_y, cv=5)\n",
    "\n",
    "cv_r2_f = []\n",
    "cv_tau_f = []\n",
    "\n",
    "for i in range(100):\n",
    "\n",
    "    kf = model_selection.KFold(n_splits=5,shuffle=True, random_state=i)  #needed to create random folds (using i)\n",
    "    cvpred_f = model_selection.cross_val_predict(mod_full, df_X_f, df_y, cv=kf)  #predict using current random folds\n",
    "    \n",
    "    #correlations\n",
    "    r = LOI200['logDD'].corr(pd.Series(cvpred_f))\n",
    "    tau = LOI200['logDD'].corr(pd.Series(cvpred_f), method='kendall')\n",
    "    \n",
    "    #append to list\n",
    "    cv_r2_f.append(r**2)\n",
    "    cv_tau_f.append(tau)\n",
    "\n",
    "print(np.mean(cv_r2_f))\n",
    "print(np.mean(cv_tau_f))\n",
    "print(1.96 * np.var(cv_r2_f))  \n",
    "print(1.96 * np.var(cv_tau_f))"
   ]
  },
  {
   "cell_type": "markdown",
   "metadata": {
    "lines_to_next_cell": 0
   },
   "source": [
    "## Section 5. Spatial Estimation\n",
    "Later in Millington _et al._ (2010) models fit from the sample data (at 51 locations) were used to predict deer density across a subsection of the study area. We readily do this in R using the functionality in the `raster` package. Things are not so straight-forward in python because the raster processing tools do not seem to be so well developed... \n",
    "\n",
    "In python, the main package for raster tools seems to be [`rasterio`](https://rasterio.readthedocs.io/). However, the rasterio package doesn't have predict methods like for R and to do what we want to do here, [others have suggested simply using R!](https://stackoverflow.com/questions/48853484/how-to-structure-data-for-prediction-using-rasters-as-targets). As its name suggests, rasterio is focused on raster input and output.  \n",
    "\n",
    "After some exploring, I thought we might be able use [pyimpute](https://github.com/perrygeo/pyimpute) which has some nice features and contains a lot of the functionality we want._But_ pyimpute assumes the data used to fit models are from the study rasters themselves (indicated by points within the raster). In the current situation, we have already fit the model using point data and now simply want to apply the fitted model parameters to our explanatory rasters.\n",
    "\n",
    "Further googling suggested we could use `numpy arrays` with the numpy predict methods, for example see [here](https://stackoverflow.com/questions/29036179/what-is-the-python-equivalent-to-r-predict-function-for-linear-models) and [here](https://www.statsmodels.org/devel/examples/notebooks/generated/predict.html). We would have to do some fiddling moving back and forth between 1D arrays and 2D rasters but it should be possible. To specify the point location values we will need to use [numpy masked arrays](https://numpy.org/doc/stable/reference/maskedarray.generic.html) (e.g. see [here](https://stackoverflow.com/a/38856546) and [here](https://stackoverflow.com/a/38194439))."
   ]
  },
  {
   "cell_type": "markdown",
   "metadata": {
    "lines_to_next_cell": 0
   },
   "source": [
    "First, we'll do a uni-variate model for distance to lowland conifer. Let's view the raster data we're going to use to predicte deer distribution (distance to lowland conifer).  "
   ]
  },
  {
   "cell_type": "code",
   "execution_count": 28,
   "metadata": {},
   "outputs": [
    {
     "data": {
      "image/png": "[encoded data removed]",
      "text/plain": [
       "<Figure size 432x288 with 1 Axes>"
      ]
     },
     "metadata": {
      "needs_background": "light"
     },
     "output_type": "display_data"
    },
    {
     "data": {
      "text/plain": [
       "<AxesSubplot:>"
      ]
     },
     "execution_count": 28,
     "metadata": {},
     "output_type": "execute_result"
    }
   ],
   "source": [
    "#read the raster with rasterio,  requires import rasterio and from rasterio.plot import show\n",
    "dlc_r = rasterio.open('LOI200_dlc_km.asc')\n",
    "rasterio.plot.show(dlc_r)"
   ]
  },
  {
   "cell_type": "markdown",
   "metadata": {
    "lines_to_next_cell": 0
   },
   "source": [
    "Note the 'empty' block (no data) in the bottom left. This will be important in a minute...\n",
    "\n",
    "Next, we create [a 1D `ndarray`](https://numpy.org/doc/stable/reference/generated/numpy.ndarray.html) from this 2D raster: "
   ]
  },
  {
   "cell_type": "code",
   "execution_count": 29,
   "metadata": {},
   "outputs": [
    {
     "name": "stdout",
     "output_type": "stream",
     "text": [
      "<class 'numpy.ndarray'>\n",
      "(202104,)\n"
     ]
    }
   ],
   "source": [
    "#read the raster with rasterio,  requires import rasterio\n",
    "#we need to use src.read for flatten() method below\n",
    "with rasterio.open('LOI200_dlc_km.asc') as src:\n",
    "    dlc_r = src.read(1)  \n",
    "    \n",
    "dlc_f = dlc_r.flatten()  #flatten from 2d to 1D\n",
    "\n",
    "#check we have produced a 1D array\n",
    "print(type(dlc_f))\n",
    "print(dlc_f.shape)\n",
    "\n",
    "\n",
    "#fit the regression and predict on 1D data\n",
    "#create independent and dependent variables\n",
    "df_X = LOI200['DistanceLC']\n",
    "df_y = LOI200['logDD']                  \n",
    "\n",
    "new_df_X = df_X.values\n",
    "new_df_X = new_df_X.reshape(-1,1)\n",
    "\n",
    "#fit the mode \n",
    "uniregr = linear_model.LinearRegression()\n",
    "uniregr.fit(new_df_X, df_y)\n",
    "\n",
    "res = uniregr.predict(dlc_f.reshape(-1,1))\n",
    "\n"
   ]
  },
  {
   "cell_type": "markdown",
   "metadata": {},
   "source": [
    "Now, remember that block of no data in the bottom left of the raster? We tell python to ignore this. We do that using a masked array:"
   ]
  },
  {
   "cell_type": "code",
   "execution_count": 30,
   "metadata": {},
   "outputs": [],
   "source": [
    "#create the mask. requres import numpy.ma as ma\n",
    "ma_dlc = ma.masked_values(dlc_f, -9999)   #specify that -9999 is no data \n",
    "mac_dlc = ma.compressed(ma_dlc)           #remove these no data values"
   ]
  },
  {
   "cell_type": "markdown",
   "metadata": {},
   "source": [
    "We can use the `mod_dlc` sklearn linear model object we created above to make our predictions:"
   ]
  },
  {
   "cell_type": "code",
   "execution_count": 31,
   "metadata": {},
   "outputs": [
    {
     "ename": "ValueError",
     "evalue": "shapes (51,2) and (202104,1) not aligned: 2 (dim 1) != 202104 (dim 0)",
     "output_type": "error",
     "traceback": [
      "\u001b[1;31m---------------------------------------------------------------------------\u001b[0m",
      "\u001b[1;31mValueError\u001b[0m                                Traceback (most recent call last)",
      "\u001b[1;32m<ipython-input-31-479a4d11208f>\u001b[0m in \u001b[0;36m<module>\u001b[1;34m\u001b[0m\n\u001b[1;32m----> 1\u001b[1;33m \u001b[0mres\u001b[0m \u001b[1;33m=\u001b[0m \u001b[0mmod_dlc\u001b[0m\u001b[1;33m.\u001b[0m\u001b[0mpredict\u001b[0m\u001b[1;33m(\u001b[0m\u001b[0mdlc_f\u001b[0m\u001b[1;33m.\u001b[0m\u001b[0mreshape\u001b[0m\u001b[1;33m(\u001b[0m\u001b[1;33m-\u001b[0m\u001b[1;36m1\u001b[0m\u001b[1;33m,\u001b[0m\u001b[1;36m1\u001b[0m\u001b[1;33m)\u001b[0m\u001b[1;33m)\u001b[0m\u001b[1;33m\u001b[0m\u001b[1;33m\u001b[0m\u001b[0m\n\u001b[0m\u001b[0;32m      2\u001b[0m \u001b[1;33m\u001b[0m\u001b[0m\n\u001b[0;32m      3\u001b[0m \u001b[0mres\u001b[0m \u001b[1;33m=\u001b[0m \u001b[0mres\u001b[0m\u001b[1;33m.\u001b[0m\u001b[0mastype\u001b[0m\u001b[1;33m(\u001b[0m\u001b[0mnp\u001b[0m\u001b[1;33m.\u001b[0m\u001b[0mfloat32\u001b[0m\u001b[1;33m)\u001b[0m \u001b[1;31m#original were float32\u001b[0m\u001b[1;33m\u001b[0m\u001b[1;33m\u001b[0m\u001b[0m\n",
      "\u001b[1;32mC:\\ProgramData\\Anaconda3\\envs\\sds2020\\lib\\site-packages\\statsmodels\\regression\\linear_model.py\u001b[0m in \u001b[0;36mpredict\u001b[1;34m(self, params, exog)\u001b[0m\n\u001b[0;32m    378\u001b[0m             \u001b[0mexog\u001b[0m \u001b[1;33m=\u001b[0m \u001b[0mself\u001b[0m\u001b[1;33m.\u001b[0m\u001b[0mexog\u001b[0m\u001b[1;33m\u001b[0m\u001b[1;33m\u001b[0m\u001b[0m\n\u001b[0;32m    379\u001b[0m \u001b[1;33m\u001b[0m\u001b[0m\n\u001b[1;32m--> 380\u001b[1;33m         \u001b[1;32mreturn\u001b[0m \u001b[0mnp\u001b[0m\u001b[1;33m.\u001b[0m\u001b[0mdot\u001b[0m\u001b[1;33m(\u001b[0m\u001b[0mexog\u001b[0m\u001b[1;33m,\u001b[0m \u001b[0mparams\u001b[0m\u001b[1;33m)\u001b[0m\u001b[1;33m\u001b[0m\u001b[1;33m\u001b[0m\u001b[0m\n\u001b[0m\u001b[0;32m    381\u001b[0m \u001b[1;33m\u001b[0m\u001b[0m\n\u001b[0;32m    382\u001b[0m     \u001b[1;32mdef\u001b[0m \u001b[0mget_distribution\u001b[0m\u001b[1;33m(\u001b[0m\u001b[0mself\u001b[0m\u001b[1;33m,\u001b[0m \u001b[0mparams\u001b[0m\u001b[1;33m,\u001b[0m \u001b[0mscale\u001b[0m\u001b[1;33m,\u001b[0m \u001b[0mexog\u001b[0m\u001b[1;33m=\u001b[0m\u001b[1;32mNone\u001b[0m\u001b[1;33m,\u001b[0m \u001b[0mdist_class\u001b[0m\u001b[1;33m=\u001b[0m\u001b[1;32mNone\u001b[0m\u001b[1;33m)\u001b[0m\u001b[1;33m:\u001b[0m\u001b[1;33m\u001b[0m\u001b[1;33m\u001b[0m\u001b[0m\n",
      "\u001b[1;32m<__array_function__ internals>\u001b[0m in \u001b[0;36mdot\u001b[1;34m(*args, **kwargs)\u001b[0m\n",
      "\u001b[1;31mValueError\u001b[0m: shapes (51,2) and (202104,1) not aligned: 2 (dim 1) != 202104 (dim 0)"
     ]
    }
   ],
   "source": [
    "#fit the model (this got over-written above! so re-fir here)\n",
    "mod_dlc  = linear_model.LinearRegression()\n",
    "mod_dlc .fit(new_df_X, df_y)\n",
    "\n",
    "res = mod_dlc.predict(dlc_f.reshape(-1,1))\n",
    "res = res.astype(np.float32) #original were float32"
   ]
  },
  {
   "cell_type": "markdown",
   "metadata": {},
   "source": [
    "Before we convert our 1D data back to 2D we need re-insert the no data values we removed:"
   ]
  },
  {
   "cell_type": "code",
   "execution_count": null,
   "metadata": {},
   "outputs": [],
   "source": [
    "pred_dlc = ma.MaskedArray(res, mask=ma_dlc.mask,fill_value=-9999)"
   ]
  },
  {
   "cell_type": "markdown",
   "metadata": {},
   "source": [
    "And now we can convert back to a 2D map:"
   ]
  },
  {
   "cell_type": "code",
   "execution_count": null,
   "metadata": {},
   "outputs": [],
   "source": [
    "pred2D = pred_dlc.reshape(dlc_r.shape)"
   ]
  },
  {
   "cell_type": "markdown",
   "metadata": {},
   "source": [
    "And plot!"
   ]
  },
  {
   "cell_type": "code",
   "execution_count": null,
   "metadata": {},
   "outputs": [],
   "source": [
    "rasterio.plot.show(pred2D)"
   ]
  },
  {
   "cell_type": "markdown",
   "metadata": {},
   "source": [
    "Phew! What took a couple of lines in R, took a lot more work in python. And getting a legend on that plot will take [even more messing with matplotlib](https://stackoverflow.com/questions/25482876/how-to-add-legend-to-imshow-in-matplotlib). We can at least just make the plot a little larger...  "
   ]
  },
  {
   "cell_type": "code",
   "execution_count": null,
   "metadata": {},
   "outputs": [],
   "source": [
    "fig, ax = plt.subplots(figsize=(10, 5))\n",
    "\n",
    "im = ax.imshow(pred2D)\n",
    "\n",
    "plt.show()"
   ]
  },
  {
   "cell_type": "markdown",
   "metadata": {
    "lines_to_next_cell": 0
   },
   "source": [
    "### Task 5.\n",
    "\n",
    "Use code in this section to create a predicted deer density map for the 'best model' (i.e. using `LOI200_dlc_km.asc` and `LOI200_Meandbh_cm.asc` as predictor maps)."
   ]
  },
  {
   "cell_type": "code",
   "execution_count": null,
   "metadata": {},
   "outputs": [],
   "source": [
    "with rasterio.open('LOI200_dlc_km.asc') as src:\n",
    "    dlc_r = src.read(1)  # TODO band num?\n",
    "        \n",
    "dlc_f = dlc_r.flatten()\n",
    "\n",
    "with rasterio.open('LOI200_Meandbh_cm.asc') as src:\n",
    "    dbh_r = src.read(1)  # TODO band num?\n",
    "        \n",
    "dbh_f = dbh_r.flatten()\n",
    "\n",
    "joint_f = [dlc_f,dbh_f]\n",
    "joint_f = np.array(joint_f).T\n",
    "\n",
    "\n",
    "#create the mask\n",
    "ND = -9999\n",
    "ma_dlc = ma.masked_values(dlc_f,ND)\n",
    "ma_dbh = ma.masked_values(dbh_f,ND)\n",
    "\n",
    "ma_joint = ma_dbh\n",
    "ma_joint = ma.masked_where(ma_dlc.mask | ma_dbh.mask, ma_joint)\n",
    "\n",
    "ma_joint2 = ma_dbh\n",
    "ma_joint2 = ma.masked_where(ma_dlc.mask, ma_joint2)\n",
    "ma_joint2 = ma.masked_where(ma_dbh.mask, ma_joint2)\n",
    "\n",
    "#create independent and dependent variables\n",
    "df_X = LOI200[['DistanceLC','NewDBH']]  \n",
    "df_y = LOI200['logDD']                  \n",
    "\n",
    "#fit the mode \n",
    "regr = linear_model.LinearRegression()\n",
    "regr.fit(df_X, df_y)\n",
    "\n",
    "mres = regr.predict(joint_f)  #can't predict on compressed data (irregular missing values between variables), just use original \n",
    "mres = mres.astype(np.float32) #original were float32\n",
    "ma_mres = ma.MaskedArray(mres, mask=ma_joint2.mask,fill_value=-9999)\n",
    "\n",
    "responses2D = ma_mres.reshape(dlc_r.shape)\n",
    "rasterio.plot.show(responses2D)\n",
    "\n",
    "\n",
    "#all that in R took 8 lines of code - there are definite pros and cons of the two languages!\n",
    "\n",
    "\n",
    "#proof of concept for multiple arrays\n",
    "'''\n",
    "ND = -9999\n",
    "a = np.array([1,2,3,ND])\n",
    "b = np.array([ND,2,3,4])\n",
    "\n",
    "ama = ma.masked_values(a,ND)\n",
    "bma = ma.masked_values(b,ND)\n",
    "  \n",
    "c = bma\n",
    "print(c)\n",
    "c = ma.masked_where(ama.mask | bma.mask,d)\n",
    "\n",
    "print(c)\n",
    "'''\n"
   ]
  }
 ],
 "metadata": {
  "jupytext": {
   "cell_metadata_filter": "-all",
   "main_language": "R",
   "notebook_metadata_filter": "-all"
  },
  "kernelspec": {
   "display_name": "Python 3",
   "language": "python",
   "name": "python3"
  },
  "language_info": {
   "codemirror_mode": {
    "name": "ipython",
    "version": 3
   },
   "file_extension": ".py",
   "mimetype": "text/x-python",
   "name": "python",
   "nbconvert_exporter": "python",
   "pygments_lexer": "ipython3",
   "version": "3.6.11"
  }
 },
 "nbformat": 4,
 "nbformat_minor": 2
}
