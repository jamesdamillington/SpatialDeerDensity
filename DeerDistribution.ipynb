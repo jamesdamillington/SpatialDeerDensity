{
 "cells": [
  {
   "cell_type": "markdown",
   "metadata": {},
   "source": [
    "Import required packages"
   ]
  },
  {
   "cell_type": "code",
   "execution_count": 102,
   "metadata": {},
   "outputs": [
    {
     "name": "stdout",
     "output_type": "stream",
     "text": [
      "Pandas 0.25.1\n",
      "Seaborn 0.9.0\n"
     ]
    }
   ],
   "source": [
    "import pandas as pd\n",
    "print(\"Pandas \" + pd.__version__)\n",
    "import seaborn as sns\n",
    "print(\"Seaborn \" + sns.__version__)\n",
    "\n",
    "import matplotlib.pyplot as plt    #Plotting library used by seaborn, see http://matplotlib.org/users/pyplot_tutorial.html\n",
    "%matplotlib inline\n",
    "\n",
    "import statsmodels.api as sm\n",
    "\n",
    "import rasterio\n",
    "from osgeo import gdal\n",
    "\n",
    "import numpy as np"
   ]
  },
  {
   "cell_type": "markdown",
   "metadata": {},
   "source": [
    "Load data into memory from csv file"
   ]
  },
  {
   "cell_type": "code",
   "execution_count": 103,
   "metadata": {},
   "outputs": [],
   "source": [
    "LOI200 = pd.read_csv(\"LOI200.csv\")"
   ]
  },
  {
   "cell_type": "markdown",
   "metadata": {},
   "source": [
    "Check data"
   ]
  },
  {
   "cell_type": "code",
   "execution_count": 104,
   "metadata": {},
   "outputs": [
    {
     "data": {
      "text/html": [
       "<div>\n",
       "<style scoped>\n",
       "    .dataframe tbody tr th:only-of-type {\n",
       "        vertical-align: middle;\n",
       "    }\n",
       "\n",
       "    .dataframe tbody tr th {\n",
       "        vertical-align: top;\n",
       "    }\n",
       "\n",
       "    .dataframe thead th {\n",
       "        text-align: right;\n",
       "    }\n",
       "</style>\n",
       "<table border=\"1\" class=\"dataframe\">\n",
       "  <thead>\n",
       "    <tr style=\"text-align: right;\">\n",
       "      <th></th>\n",
       "      <th>Site</th>\n",
       "      <th>logDD</th>\n",
       "      <th>DistanceLC</th>\n",
       "      <th>NewDBH</th>\n",
       "      <th>NewBA</th>\n",
       "      <th>SnowDepth</th>\n",
       "      <th>LCProp</th>\n",
       "      <th>Ecoregion</th>\n",
       "      <th>AspenProp</th>\n",
       "      <th>HdwdProp</th>\n",
       "      <th>LCProp.1</th>\n",
       "      <th>CountStands</th>\n",
       "    </tr>\n",
       "  </thead>\n",
       "  <tbody>\n",
       "    <tr>\n",
       "      <td>0</td>\n",
       "      <td>2</td>\n",
       "      <td>1.72</td>\n",
       "      <td>0.158</td>\n",
       "      <td>19.9</td>\n",
       "      <td>19.3</td>\n",
       "      <td>238</td>\n",
       "      <td>0.09</td>\n",
       "      <td>1</td>\n",
       "      <td>0.0</td>\n",
       "      <td>0.77</td>\n",
       "      <td>0.09</td>\n",
       "      <td>5</td>\n",
       "    </tr>\n",
       "    <tr>\n",
       "      <td>1</td>\n",
       "      <td>3</td>\n",
       "      <td>1.01</td>\n",
       "      <td>0.301</td>\n",
       "      <td>26.8</td>\n",
       "      <td>13.8</td>\n",
       "      <td>223</td>\n",
       "      <td>0.00</td>\n",
       "      <td>1</td>\n",
       "      <td>0.0</td>\n",
       "      <td>1.00</td>\n",
       "      <td>0.00</td>\n",
       "      <td>1</td>\n",
       "    </tr>\n",
       "    <tr>\n",
       "      <td>2</td>\n",
       "      <td>4</td>\n",
       "      <td>0.98</td>\n",
       "      <td>0.240</td>\n",
       "      <td>29.5</td>\n",
       "      <td>19.0</td>\n",
       "      <td>163</td>\n",
       "      <td>0.00</td>\n",
       "      <td>1</td>\n",
       "      <td>0.0</td>\n",
       "      <td>1.00</td>\n",
       "      <td>0.00</td>\n",
       "      <td>1</td>\n",
       "    </tr>\n",
       "    <tr>\n",
       "      <td>3</td>\n",
       "      <td>5</td>\n",
       "      <td>1.24</td>\n",
       "      <td>0.250</td>\n",
       "      <td>28.5</td>\n",
       "      <td>14.0</td>\n",
       "      <td>176</td>\n",
       "      <td>0.00</td>\n",
       "      <td>1</td>\n",
       "      <td>0.0</td>\n",
       "      <td>1.00</td>\n",
       "      <td>0.00</td>\n",
       "      <td>1</td>\n",
       "    </tr>\n",
       "    <tr>\n",
       "      <td>4</td>\n",
       "      <td>6</td>\n",
       "      <td>1.08</td>\n",
       "      <td>0.121</td>\n",
       "      <td>25.6</td>\n",
       "      <td>18.1</td>\n",
       "      <td>152</td>\n",
       "      <td>0.08</td>\n",
       "      <td>1</td>\n",
       "      <td>0.0</td>\n",
       "      <td>0.92</td>\n",
       "      <td>0.08</td>\n",
       "      <td>5</td>\n",
       "    </tr>\n",
       "  </tbody>\n",
       "</table>\n",
       "</div>"
      ],
      "text/plain": [
       "   Site  logDD  DistanceLC  NewDBH  NewBA  SnowDepth  LCProp  Ecoregion  \\\n",
       "0     2   1.72       0.158    19.9   19.3        238    0.09          1   \n",
       "1     3   1.01       0.301    26.8   13.8        223    0.00          1   \n",
       "2     4   0.98       0.240    29.5   19.0        163    0.00          1   \n",
       "3     5   1.24       0.250    28.5   14.0        176    0.00          1   \n",
       "4     6   1.08       0.121    25.6   18.1        152    0.08          1   \n",
       "\n",
       "   AspenProp  HdwdProp  LCProp.1  CountStands  \n",
       "0        0.0      0.77      0.09            5  \n",
       "1        0.0      1.00      0.00            1  \n",
       "2        0.0      1.00      0.00            1  \n",
       "3        0.0      1.00      0.00            1  \n",
       "4        0.0      0.92      0.08            5  "
      ]
     },
     "execution_count": 104,
     "metadata": {},
     "output_type": "execute_result"
    }
   ],
   "source": [
    "LOI200.head()"
   ]
  },
  {
   "cell_type": "code",
   "execution_count": 105,
   "metadata": {},
   "outputs": [
    {
     "data": {
      "text/html": [
       "<div>\n",
       "<style scoped>\n",
       "    .dataframe tbody tr th:only-of-type {\n",
       "        vertical-align: middle;\n",
       "    }\n",
       "\n",
       "    .dataframe tbody tr th {\n",
       "        vertical-align: top;\n",
       "    }\n",
       "\n",
       "    .dataframe thead th {\n",
       "        text-align: right;\n",
       "    }\n",
       "</style>\n",
       "<table border=\"1\" class=\"dataframe\">\n",
       "  <thead>\n",
       "    <tr style=\"text-align: right;\">\n",
       "      <th></th>\n",
       "      <th>Site</th>\n",
       "      <th>logDD</th>\n",
       "      <th>DistanceLC</th>\n",
       "      <th>NewDBH</th>\n",
       "      <th>NewBA</th>\n",
       "      <th>SnowDepth</th>\n",
       "      <th>LCProp</th>\n",
       "      <th>Ecoregion</th>\n",
       "      <th>AspenProp</th>\n",
       "      <th>HdwdProp</th>\n",
       "      <th>LCProp.1</th>\n",
       "      <th>CountStands</th>\n",
       "    </tr>\n",
       "  </thead>\n",
       "  <tbody>\n",
       "    <tr>\n",
       "      <td>count</td>\n",
       "      <td>51.000000</td>\n",
       "      <td>51.000000</td>\n",
       "      <td>51.000000</td>\n",
       "      <td>51.000000</td>\n",
       "      <td>51.000000</td>\n",
       "      <td>51.000000</td>\n",
       "      <td>51.000000</td>\n",
       "      <td>51.000000</td>\n",
       "      <td>51.000000</td>\n",
       "      <td>51.000000</td>\n",
       "      <td>51.000000</td>\n",
       "      <td>51.000000</td>\n",
       "    </tr>\n",
       "    <tr>\n",
       "      <td>mean</td>\n",
       "      <td>1840.686275</td>\n",
       "      <td>1.149804</td>\n",
       "      <td>0.285392</td>\n",
       "      <td>24.323529</td>\n",
       "      <td>21.296078</td>\n",
       "      <td>248.411765</td>\n",
       "      <td>0.037843</td>\n",
       "      <td>2.000000</td>\n",
       "      <td>0.123529</td>\n",
       "      <td>0.791373</td>\n",
       "      <td>0.037843</td>\n",
       "      <td>3.627451</td>\n",
       "    </tr>\n",
       "    <tr>\n",
       "      <td>std</td>\n",
       "      <td>1958.204478</td>\n",
       "      <td>0.362626</td>\n",
       "      <td>0.185569</td>\n",
       "      <td>4.864343</td>\n",
       "      <td>3.708798</td>\n",
       "      <td>56.621260</td>\n",
       "      <td>0.097597</td>\n",
       "      <td>1.216553</td>\n",
       "      <td>0.173687</td>\n",
       "      <td>0.220273</td>\n",
       "      <td>0.097597</td>\n",
       "      <td>2.097244</td>\n",
       "    </tr>\n",
       "    <tr>\n",
       "      <td>min</td>\n",
       "      <td>2.000000</td>\n",
       "      <td>0.330000</td>\n",
       "      <td>0.010000</td>\n",
       "      <td>13.800000</td>\n",
       "      <td>13.800000</td>\n",
       "      <td>152.000000</td>\n",
       "      <td>0.000000</td>\n",
       "      <td>1.000000</td>\n",
       "      <td>0.000000</td>\n",
       "      <td>0.190000</td>\n",
       "      <td>0.000000</td>\n",
       "      <td>1.000000</td>\n",
       "    </tr>\n",
       "    <tr>\n",
       "      <td>25%</td>\n",
       "      <td>29.500000</td>\n",
       "      <td>0.920000</td>\n",
       "      <td>0.163000</td>\n",
       "      <td>21.300000</td>\n",
       "      <td>18.600000</td>\n",
       "      <td>205.500000</td>\n",
       "      <td>0.000000</td>\n",
       "      <td>1.000000</td>\n",
       "      <td>0.000000</td>\n",
       "      <td>0.680000</td>\n",
       "      <td>0.000000</td>\n",
       "      <td>2.000000</td>\n",
       "    </tr>\n",
       "    <tr>\n",
       "      <td>50%</td>\n",
       "      <td>837.000000</td>\n",
       "      <td>1.170000</td>\n",
       "      <td>0.233000</td>\n",
       "      <td>24.900000</td>\n",
       "      <td>20.900000</td>\n",
       "      <td>233.000000</td>\n",
       "      <td>0.000000</td>\n",
       "      <td>1.000000</td>\n",
       "      <td>0.020000</td>\n",
       "      <td>0.850000</td>\n",
       "      <td>0.000000</td>\n",
       "      <td>3.000000</td>\n",
       "    </tr>\n",
       "    <tr>\n",
       "      <td>75%</td>\n",
       "      <td>4142.000000</td>\n",
       "      <td>1.395000</td>\n",
       "      <td>0.355500</td>\n",
       "      <td>27.150000</td>\n",
       "      <td>23.450000</td>\n",
       "      <td>299.000000</td>\n",
       "      <td>0.015000</td>\n",
       "      <td>3.000000</td>\n",
       "      <td>0.200000</td>\n",
       "      <td>0.985000</td>\n",
       "      <td>0.015000</td>\n",
       "      <td>5.000000</td>\n",
       "    </tr>\n",
       "    <tr>\n",
       "      <td>max</td>\n",
       "      <td>5342.000000</td>\n",
       "      <td>1.810000</td>\n",
       "      <td>0.930000</td>\n",
       "      <td>34.500000</td>\n",
       "      <td>29.200000</td>\n",
       "      <td>372.000000</td>\n",
       "      <td>0.460000</td>\n",
       "      <td>4.000000</td>\n",
       "      <td>0.720000</td>\n",
       "      <td>1.000000</td>\n",
       "      <td>0.460000</td>\n",
       "      <td>9.000000</td>\n",
       "    </tr>\n",
       "  </tbody>\n",
       "</table>\n",
       "</div>"
      ],
      "text/plain": [
       "              Site      logDD  DistanceLC     NewDBH      NewBA   SnowDepth  \\\n",
       "count    51.000000  51.000000   51.000000  51.000000  51.000000   51.000000   \n",
       "mean   1840.686275   1.149804    0.285392  24.323529  21.296078  248.411765   \n",
       "std    1958.204478   0.362626    0.185569   4.864343   3.708798   56.621260   \n",
       "min       2.000000   0.330000    0.010000  13.800000  13.800000  152.000000   \n",
       "25%      29.500000   0.920000    0.163000  21.300000  18.600000  205.500000   \n",
       "50%     837.000000   1.170000    0.233000  24.900000  20.900000  233.000000   \n",
       "75%    4142.000000   1.395000    0.355500  27.150000  23.450000  299.000000   \n",
       "max    5342.000000   1.810000    0.930000  34.500000  29.200000  372.000000   \n",
       "\n",
       "          LCProp  Ecoregion  AspenProp   HdwdProp   LCProp.1  CountStands  \n",
       "count  51.000000  51.000000  51.000000  51.000000  51.000000    51.000000  \n",
       "mean    0.037843   2.000000   0.123529   0.791373   0.037843     3.627451  \n",
       "std     0.097597   1.216553   0.173687   0.220273   0.097597     2.097244  \n",
       "min     0.000000   1.000000   0.000000   0.190000   0.000000     1.000000  \n",
       "25%     0.000000   1.000000   0.000000   0.680000   0.000000     2.000000  \n",
       "50%     0.000000   1.000000   0.020000   0.850000   0.000000     3.000000  \n",
       "75%     0.015000   3.000000   0.200000   0.985000   0.015000     5.000000  \n",
       "max     0.460000   4.000000   0.720000   1.000000   0.460000     9.000000  "
      ]
     },
     "execution_count": 105,
     "metadata": {},
     "output_type": "execute_result"
    }
   ],
   "source": [
    "LOI200.describe()"
   ]
  },
  {
   "cell_type": "code",
   "execution_count": 106,
   "metadata": {},
   "outputs": [
    {
     "data": {
      "text/plain": [
       "<seaborn.axisgrid.PairGrid at 0x7fd500161d10>"
      ]
     },
     "execution_count": 106,
     "metadata": {},
     "output_type": "execute_result"
    },
    {
     "data": {
      "image/png": "[encoded data removed]",
      "text/plain": [
       "<Figure size 900x900 with 30 Axes>"
      ]
     },
     "metadata": {
      "needs_background": "light"
     },
     "output_type": "display_data"
    }
   ],
   "source": [
    "sns.pairplot(LOI200.loc[:,'logDD':'SnowDepth'])"
   ]
  },
  {
   "cell_type": "markdown",
   "metadata": {},
   "source": [
    "## Section 3: Simple Linear Regression and Correlation\n",
    "Now that we have familiarised ourselves with the data, the first piece of proper analysis we will do is to fit simple linear regression models to predict (log) deer density from environmental co-variates "
   ]
  },
  {
   "cell_type": "code",
   "execution_count": 107,
   "metadata": {},
   "outputs": [
    {
     "data": {
      "image/png": "[encoded data removed]",
      "text/plain": [
       "<Figure size 576x576 with 1 Axes>"
      ]
     },
     "metadata": {
      "needs_background": "light"
     },
     "output_type": "display_data"
    }
   ],
   "source": [
    "fig, ax = plt.subplots(1,1,figsize=(8,8))\n",
    "g = sns.regplot(x=LOI200.DistanceLC, y=LOI200.logDD)"
   ]
  },
  {
   "cell_type": "markdown",
   "metadata": {},
   "source": [
    "In python, linear regression can be performed using functions available in the `statsmodels` package. Read the docs and more detail [here](https://www.statsmodels.org/dev/examples/notebooks/generated/ols.html). Specifically we can use the `OLS` function from the `statsmodels.api`. "
   ]
  },
  {
   "cell_type": "markdown",
   "metadata": {},
   "source": [
    "Using the `OLS` function from `statsmodels` to fit a regression requires we create an `OLS` object first, then use the `fit` [method](https://www.statsmodels.org/dev/generated/statsmodels.regression.linear_model.OLS.fit.html) on that object to create a `RegressionResults` [object](https://www.statsmodels.org/dev/generated/statsmodels.regression.linear_model.RegressionResults.html#statsmodels.regression.linear_model.RegressionResults). An easy way to create an `OLS` object is to use the `from_formula` [method](https://www.statsmodels.org/dev/dev/generated/statsmodels.base.model.Model.from_formula.html?highlight=from_formula#statsmodels.base.model.Model.from_formula) to pass the equation of the model we want to fit (as well as indicating what the data are that we are using):"
   ]
  },
  {
   "cell_type": "code",
   "execution_count": 108,
   "metadata": {},
   "outputs": [],
   "source": [
    "mod_dlc = sm.OLS.from_formula(\"logDD ~ DistanceLC\", data = LOI200) \n",
    "mod_dlc_RR = mod_dlc.fit()"
   ]
  },
  {
   "cell_type": "markdown",
   "metadata": {},
   "source": [
    "What happened...? Well, it looks like nothing happened but we have indeed now fit a regression model!\n",
    "\n",
    "To check this we we should look at a summary of the model (by using the `summary` [method](https://www.statsmodels.org/dev/generated/statsmodels.regression.linear_model.RegressionResults.summary.html?highlight=summary#statsmodels.regression.linear_model.RegressionResults.summary) on the `RegressionResults` object we just created) to understand what the model can tell us:"
   ]
  },
  {
   "cell_type": "code",
   "execution_count": 109,
   "metadata": {},
   "outputs": [
    {
     "name": "stdout",
     "output_type": "stream",
     "text": [
      "                            OLS Regression Results                            \n",
      "==============================================================================\n",
      "Dep. Variable:                  logDD   R-squared:                       0.138\n",
      "Model:                            OLS   Adj. R-squared:                  0.120\n",
      "Method:                 Least Squares   F-statistic:                     7.842\n",
      "Date:                Thu, 14 May 2020   Prob (F-statistic):            0.00729\n",
      "Time:                        13:11:34   Log-Likelihood:                -16.342\n",
      "No. Observations:                  51   AIC:                             36.68\n",
      "Df Residuals:                      49   BIC:                             40.55\n",
      "Df Model:                           1                                         \n",
      "Covariance Type:            nonrobust                                         \n",
      "==============================================================================\n",
      "                 coef    std err          t      P>|t|      [0.025      0.975]\n",
      "------------------------------------------------------------------------------\n",
      "Intercept      1.3569      0.088     15.424      0.000       1.180       1.534\n",
      "DistanceLC    -0.7258      0.259     -2.800      0.007      -1.247      -0.205\n",
      "==============================================================================\n",
      "Omnibus:                        0.545   Durbin-Watson:                   2.058\n",
      "Prob(Omnibus):                  0.761   Jarque-Bera (JB):                0.599\n",
      "Skew:                          -0.228   Prob(JB):                        0.741\n",
      "Kurtosis:                       2.728   Cond. No.                         5.90\n",
      "==============================================================================\n",
      "\n",
      "Warnings:\n",
      "[1] Standard Errors assume that the covariance matrix of the errors is correctly specified.\n"
     ]
    }
   ],
   "source": [
    "print(mod_dlc_RR.summary())"
   ]
  },
  {
   "cell_type": "markdown",
   "metadata": {},
   "source": [
    "We can also access specific properties of the `RegressionResults` object (see full list of properties [here](https://www.statsmodels.org/dev/generated/statsmodels.regression.linear_model.RegressionResults.html?highlight=regressionresults)):"
   ]
  },
  {
   "cell_type": "code",
   "execution_count": 110,
   "metadata": {},
   "outputs": [
    {
     "data": {
      "text/plain": [
       "0.138"
      ]
     },
     "execution_count": 110,
     "metadata": {},
     "output_type": "execute_result"
    }
   ],
   "source": [
    "round(mod_dlc_RR.rsquared,3)"
   ]
  },
  {
   "cell_type": "markdown",
   "metadata": {},
   "source": [
    "Pearson correlation"
   ]
  },
  {
   "cell_type": "code",
   "execution_count": 111,
   "metadata": {},
   "outputs": [
    {
     "data": {
      "text/html": [
       "<div>\n",
       "<style scoped>\n",
       "    .dataframe tbody tr th:only-of-type {\n",
       "        vertical-align: middle;\n",
       "    }\n",
       "\n",
       "    .dataframe tbody tr th {\n",
       "        vertical-align: top;\n",
       "    }\n",
       "\n",
       "    .dataframe thead th {\n",
       "        text-align: right;\n",
       "    }\n",
       "</style>\n",
       "<table border=\"1\" class=\"dataframe\">\n",
       "  <thead>\n",
       "    <tr style=\"text-align: right;\">\n",
       "      <th></th>\n",
       "      <th>logDD</th>\n",
       "      <th>DistanceLC</th>\n",
       "      <th>NewDBH</th>\n",
       "      <th>NewBA</th>\n",
       "      <th>SnowDepth</th>\n",
       "      <th>LCProp</th>\n",
       "    </tr>\n",
       "  </thead>\n",
       "  <tbody>\n",
       "    <tr>\n",
       "      <td>logDD</td>\n",
       "      <td>1.000</td>\n",
       "      <td>-0.371</td>\n",
       "      <td>-0.322</td>\n",
       "      <td>-0.247</td>\n",
       "      <td>-0.248</td>\n",
       "      <td>0.304</td>\n",
       "    </tr>\n",
       "    <tr>\n",
       "      <td>DistanceLC</td>\n",
       "      <td>-0.371</td>\n",
       "      <td>1.000</td>\n",
       "      <td>0.201</td>\n",
       "      <td>0.221</td>\n",
       "      <td>0.267</td>\n",
       "      <td>-0.433</td>\n",
       "    </tr>\n",
       "    <tr>\n",
       "      <td>NewDBH</td>\n",
       "      <td>-0.322</td>\n",
       "      <td>0.201</td>\n",
       "      <td>1.000</td>\n",
       "      <td>-0.027</td>\n",
       "      <td>0.026</td>\n",
       "      <td>-0.218</td>\n",
       "    </tr>\n",
       "    <tr>\n",
       "      <td>NewBA</td>\n",
       "      <td>-0.247</td>\n",
       "      <td>0.221</td>\n",
       "      <td>-0.027</td>\n",
       "      <td>1.000</td>\n",
       "      <td>0.332</td>\n",
       "      <td>0.012</td>\n",
       "    </tr>\n",
       "    <tr>\n",
       "      <td>SnowDepth</td>\n",
       "      <td>-0.248</td>\n",
       "      <td>0.267</td>\n",
       "      <td>0.026</td>\n",
       "      <td>0.332</td>\n",
       "      <td>1.000</td>\n",
       "      <td>0.012</td>\n",
       "    </tr>\n",
       "    <tr>\n",
       "      <td>LCProp</td>\n",
       "      <td>0.304</td>\n",
       "      <td>-0.433</td>\n",
       "      <td>-0.218</td>\n",
       "      <td>0.012</td>\n",
       "      <td>0.012</td>\n",
       "      <td>1.000</td>\n",
       "    </tr>\n",
       "  </tbody>\n",
       "</table>\n",
       "</div>"
      ],
      "text/plain": [
       "            logDD  DistanceLC  NewDBH  NewBA  SnowDepth  LCProp\n",
       "logDD       1.000      -0.371  -0.322 -0.247     -0.248   0.304\n",
       "DistanceLC -0.371       1.000   0.201  0.221      0.267  -0.433\n",
       "NewDBH     -0.322       0.201   1.000 -0.027      0.026  -0.218\n",
       "NewBA      -0.247       0.221  -0.027  1.000      0.332   0.012\n",
       "SnowDepth  -0.248       0.267   0.026  0.332      1.000   0.012\n",
       "LCProp      0.304      -0.433  -0.218  0.012      0.012   1.000"
      ]
     },
     "execution_count": 111,
     "metadata": {},
     "output_type": "execute_result"
    }
   ],
   "source": [
    "corrmat_pearson = LOI200.corr()\n",
    "round(corrmat_pearson.iloc[1:7,1:7],3)"
   ]
  },
  {
   "cell_type": "markdown",
   "metadata": {},
   "source": [
    "Kendall rank correlation"
   ]
  },
  {
   "cell_type": "code",
   "execution_count": 112,
   "metadata": {},
   "outputs": [
    {
     "data": {
      "text/html": [
       "<div>\n",
       "<style scoped>\n",
       "    .dataframe tbody tr th:only-of-type {\n",
       "        vertical-align: middle;\n",
       "    }\n",
       "\n",
       "    .dataframe tbody tr th {\n",
       "        vertical-align: top;\n",
       "    }\n",
       "\n",
       "    .dataframe thead th {\n",
       "        text-align: right;\n",
       "    }\n",
       "</style>\n",
       "<table border=\"1\" class=\"dataframe\">\n",
       "  <thead>\n",
       "    <tr style=\"text-align: right;\">\n",
       "      <th></th>\n",
       "      <th>logDD</th>\n",
       "      <th>DistanceLC</th>\n",
       "      <th>NewDBH</th>\n",
       "      <th>NewBA</th>\n",
       "      <th>SnowDepth</th>\n",
       "      <th>LCProp</th>\n",
       "    </tr>\n",
       "  </thead>\n",
       "  <tbody>\n",
       "    <tr>\n",
       "      <td>logDD</td>\n",
       "      <td>1.000</td>\n",
       "      <td>-0.212</td>\n",
       "      <td>-0.222</td>\n",
       "      <td>-0.159</td>\n",
       "      <td>-0.107</td>\n",
       "      <td>0.164</td>\n",
       "    </tr>\n",
       "    <tr>\n",
       "      <td>DistanceLC</td>\n",
       "      <td>-0.212</td>\n",
       "      <td>1.000</td>\n",
       "      <td>0.151</td>\n",
       "      <td>0.143</td>\n",
       "      <td>0.070</td>\n",
       "      <td>-0.609</td>\n",
       "    </tr>\n",
       "    <tr>\n",
       "      <td>NewDBH</td>\n",
       "      <td>-0.222</td>\n",
       "      <td>0.151</td>\n",
       "      <td>1.000</td>\n",
       "      <td>-0.023</td>\n",
       "      <td>-0.014</td>\n",
       "      <td>-0.201</td>\n",
       "    </tr>\n",
       "    <tr>\n",
       "      <td>NewBA</td>\n",
       "      <td>-0.159</td>\n",
       "      <td>0.143</td>\n",
       "      <td>-0.023</td>\n",
       "      <td>1.000</td>\n",
       "      <td>0.235</td>\n",
       "      <td>-0.094</td>\n",
       "    </tr>\n",
       "    <tr>\n",
       "      <td>SnowDepth</td>\n",
       "      <td>-0.107</td>\n",
       "      <td>0.070</td>\n",
       "      <td>-0.014</td>\n",
       "      <td>0.235</td>\n",
       "      <td>1.000</td>\n",
       "      <td>-0.071</td>\n",
       "    </tr>\n",
       "    <tr>\n",
       "      <td>LCProp</td>\n",
       "      <td>0.164</td>\n",
       "      <td>-0.609</td>\n",
       "      <td>-0.201</td>\n",
       "      <td>-0.094</td>\n",
       "      <td>-0.071</td>\n",
       "      <td>1.000</td>\n",
       "    </tr>\n",
       "  </tbody>\n",
       "</table>\n",
       "</div>"
      ],
      "text/plain": [
       "            logDD  DistanceLC  NewDBH  NewBA  SnowDepth  LCProp\n",
       "logDD       1.000      -0.212  -0.222 -0.159     -0.107   0.164\n",
       "DistanceLC -0.212       1.000   0.151  0.143      0.070  -0.609\n",
       "NewDBH     -0.222       0.151   1.000 -0.023     -0.014  -0.201\n",
       "NewBA      -0.159       0.143  -0.023  1.000      0.235  -0.094\n",
       "SnowDepth  -0.107       0.070  -0.014  0.235      1.000  -0.071\n",
       "LCProp      0.164      -0.609  -0.201 -0.094     -0.071   1.000"
      ]
     },
     "execution_count": 112,
     "metadata": {},
     "output_type": "execute_result"
    }
   ],
   "source": [
    "corrmat_kendall = LOI200.corr(method=\"kendall\")\n",
    "round(corrmat_kendall.iloc[1:7,1:7],3)"
   ]
  },
  {
   "cell_type": "markdown",
   "metadata": {},
   "source": [
    "### Task 1\n",
    "\n",
    "The code in Section 3 provides all you need to calculate the values in the first row of Table 1 in Millington et al. (2010). \n",
    "\n",
    "**TASK:** Copy the code above and edit it below to calculate values for the four other  variables in Table 1 that have p < 0.1. Check you can get values from your code that correspond to those in Table 1 of Millington et al. (2010)"
   ]
  },
  {
   "cell_type": "markdown",
   "metadata": {},
   "source": [
    "## Section 4\n",
    "In Section 2 we did some simple plotting to visualise our data. Now we will do some more plotting to visualise the results of the models you have just fit. "
   ]
  },
  {
   "cell_type": "markdown",
   "metadata": {},
   "source": [
    "## Section 5. Multiple linear regression models. \n",
    "Fitting linear regression models with more than one are almost as straighforward as for simple (univariate) linear regression models."
   ]
  },
  {
   "cell_type": "code",
   "execution_count": 113,
   "metadata": {},
   "outputs": [
    {
     "name": "stdout",
     "output_type": "stream",
     "text": [
      "                            OLS Regression Results                            \n",
      "==============================================================================\n",
      "Dep. Variable:                  logDD   R-squared:                       0.202\n",
      "Model:                            OLS   Adj. R-squared:                  0.169\n",
      "Method:                 Least Squares   F-statistic:                     6.071\n",
      "Date:                Thu, 14 May 2020   Prob (F-statistic):            0.00446\n",
      "Time:                        13:11:34   Log-Likelihood:                -14.377\n",
      "No. Observations:                  51   AIC:                             34.75\n",
      "Df Residuals:                      48   BIC:                             40.55\n",
      "Df Model:                           2                                         \n",
      "Covariance Type:            nonrobust                                         \n",
      "==============================================================================\n",
      "                 coef    std err          t      P>|t|      [0.025      0.975]\n",
      "------------------------------------------------------------------------------\n",
      "Intercept      1.7960      0.240      7.493      0.000       1.314       2.278\n",
      "DistanceLC    -0.6243      0.257     -2.427      0.019      -1.141      -0.107\n",
      "NewDBH        -0.0192      0.010     -1.961      0.056      -0.039       0.000\n",
      "==============================================================================\n",
      "Omnibus:                        1.095   Durbin-Watson:                   2.136\n",
      "Prob(Omnibus):                  0.578   Jarque-Bera (JB):                1.143\n",
      "Skew:                          -0.304   Prob(JB):                        0.565\n",
      "Kurtosis:                       2.590   Cond. No.                         141.\n",
      "==============================================================================\n",
      "\n",
      "Warnings:\n",
      "[1] Standard Errors assume that the covariance matrix of the errors is correctly specified.\n"
     ]
    }
   ],
   "source": [
    "mod_dlc_dbh = sm.OLS.from_formula(\"logDD ~ DistanceLC + NewDBH\", data = LOI200) \n",
    "mod_dlc_dbh_RR = mod_dlc_dbh.fit()\n",
    "print(mod_dlc_dbh_RR.summary())"
   ]
  },
  {
   "cell_type": "markdown",
   "metadata": {},
   "source": [
    "## Section 6. Cross-validation\n",
    "To complete the bottom two lines of Table 2 in Millington et al. (2010) we need to run cross-validation. In python, we can use functionality from sklearn for [cross-validation](https://towardsdatascience.com/train-test-split-and-cross-validation-in-python-80b61beca4b6)."
   ]
  },
  {
   "cell_type": "markdown",
   "metadata": {},
   "source": [
    "First, we need to fit the model again using `sklearn` to create a model object that it will be able handle:  "
   ]
  },
  {
   "cell_type": "code",
   "execution_count": 115,
   "metadata": {},
   "outputs": [
    {
     "name": "stdout",
     "output_type": "stream",
     "text": [
      "[-0.62426055 -0.01924293]\n",
      "0.20188714479823777\n"
     ]
    }
   ],
   "source": [
    "from sklearn import linear_model\n",
    "\n",
    "#create independent and dependent variables\n",
    "df_X = LOI200[['DistanceLC','NewDBH']]  \n",
    "df_y = LOI200['logDD']                  \n",
    "\n",
    "#fit the mode \n",
    "regr = linear_model.LinearRegression()\n",
    "regr.fit(df_X, df_y)\n",
    "\n",
    "#we can get simple otuputs\n",
    "print(regr.coef_)  #model coefficients\n",
    "print(regr.score(df_X, df_y)) #r2"
   ]
  },
  {
   "cell_type": "markdown",
   "metadata": {},
   "source": [
    "We can use the fitted model to estimate predicted values for all out observations:"
   ]
  },
  {
   "cell_type": "code",
   "execution_count": 135,
   "metadata": {
    "scrolled": true
   },
   "outputs": [
    {
     "name": "stdout",
     "output_type": "stream",
     "text": [
      "[1.31445149 1.09240601 1.07852999 1.09153031 1.22786442 1.25861025\n",
      " 1.39375348 1.40188111 1.26920179 1.29333578 1.10983992 1.21966079\n",
      " 0.7221226  0.74208057 1.02704633 1.24771325 1.1977969  1.15727759\n",
      " 0.91364667 1.25151032 1.11432501 1.36164386 1.19150278 1.3903231\n",
      " 1.33604918 1.02132243 1.09411813 1.23331599 1.16655937 1.33949179\n",
      " 1.06103232 1.13017683 0.91614624 0.94554412 1.26358344 1.21085486\n",
      " 1.27906244 1.26894423 1.08694832 0.96601468 1.03120146 1.10462142\n",
      " 1.11865809 1.08022987 1.37925932 1.24397993 1.01088543 0.79371877\n",
      " 1.06836892 1.09446394 1.32739418]\n"
     ]
    }
   ],
   "source": [
    "Predicted = regr.predict(df_X)\n",
    "print(Predicted)"
   ]
  },
  {
   "cell_type": "markdown",
   "metadata": {},
   "source": [
    "To do a single 5-fold cross validation for the regression model we would use:"
   ]
  },
  {
   "cell_type": "code",
   "execution_count": 155,
   "metadata": {},
   "outputs": [
    {
     "name": "stdout",
     "output_type": "stream",
     "text": [
      "[1.21845941 1.07065189 1.08371283 1.08650904 1.19039712 1.12197384\n",
      " 1.23551624 1.26699575 1.19220936 1.20778265 1.10035765 1.26993502\n",
      " 0.8013707  0.8502362  1.08343545 1.26781983 1.18497242 1.14390928\n",
      " 0.88777447 1.27163901 1.07945954 1.34764318 1.17010758 1.43716028\n",
      " 1.32688919 0.96953252 1.09114117 1.22610002 1.19497661 1.31311523\n",
      " 1.06431283 1.12699046 0.88459536 0.92051468 1.25220456 1.20959541\n",
      " 1.25281316 1.25981273 1.08094923 0.96084356 1.03434454 1.13706205\n",
      " 1.14639201 1.11277709 1.44334528 1.3019885  1.02785548 0.78127893\n",
      " 1.09817622 1.15812165 1.37994074]\n"
     ]
    }
   ],
   "source": [
    "from sklearn import model_selection\n",
    "\n",
    "cvpred = model_selection.cross_val_predict(regr, df_X, df_y, cv=5)\n",
    "\n",
    "print(cvpred)"
   ]
  },
  {
   "cell_type": "markdown",
   "metadata": {},
   "source": [
    "This has created an array of predicted values based on models fit for each of the folds created (see `model_selection.KFold` for [more](https://scikit-learn.org/stable/modules/generated/sklearn.model_selection.KFold.html?highlight=kfold#sklearn.model_selection.KFold) on how the folds are created). "
   ]
  },
  {
   "cell_type": "markdown",
   "metadata": {},
   "source": [
    "Now append the predictors (from both all observations and the cross-validation) to the original data to allow us to calculate correlations for comparing between using all observed data vs k-folds:"
   ]
  },
  {
   "cell_type": "code",
   "execution_count": 174,
   "metadata": {},
   "outputs": [
    {
     "name": "stdout",
     "output_type": "stream",
     "text": [
      "r2 (obs):  0.202\n",
      "tau (obs):  0.311\n",
      "\n",
      "\n",
      "r2 (cv):  0.104\n",
      "tau (cv):  0.209\n"
     ]
    }
   ],
   "source": [
    "CVdata = LOI200\n",
    "CVdata['Predicted'] = Predicted\n",
    "CVdata['cvpred'] = cvpred\n",
    "\n",
    "#Predicted\n",
    "r = new['logDD'].corr(CVdata['Predicted'])\n",
    "r2 = r**2\n",
    "t = new['logDD'].corr(CVdata['Predicted'], method='kendall')\n",
    "    \n",
    "print(\"r2 (obs): \", round(r2,3))   \n",
    "print(\"tau (obs): \", round(t,3))\n",
    "print('\\n')\n",
    "\n",
    "#Cross Validated\n",
    "r = new['logDD'].corr(CVdata['cvpred'])\n",
    "r2 = r**2\n",
    "t = new['logDD'].corr(CVdata['cvpred'], method='kendall')\n",
    "    \n",
    "print(\"r2 (cv): \", round(r2,3))   \n",
    "print(\"tau (cv): \", round(t,3))"
   ]
  },
  {
   "cell_type": "markdown",
   "metadata": {},
   "source": [
    "But note how the caption of Table 2 indicates that \n",
    ">\"estimates for cross-validation results are 95% confidence intervals calculated from mean and variance of 100 repetitions.\" \n",
    "\n",
    "To do this we need to create a loop to run the cross-validation multiple times, storing the results so we can calculate the mean\n",
    "and variance:"
   ]
  },
  {
   "cell_type": "code",
   "execution_count": 166,
   "metadata": {},
   "outputs": [],
   "source": [
    "cv_r2 = []\n",
    "cv_tau = []\n",
    "\n",
    "for i in range(100):\n",
    "\n",
    "    kf = model_selection.KFold(n_splits=5,shuffle=True, random_state=i)  #needed to create random folds (using i)\n",
    "    cvpred = model_selection.cross_val_predict(regr, df_X, df_y, cv=kf)  #predict using current random folds\n",
    "    \n",
    "    #correlations\n",
    "    r = LOI200['logDD'].corr(pd.Series(cvpred))\n",
    "    tau = LOI200['logDD'].corr(pd.Series(cvpred), method='kendall')\n",
    "    \n",
    "    #append to list\n",
    "    cv_r2.append(r**2)\n",
    "    cv_tau.append(tau)\n",
    "  "
   ]
  },
  {
   "cell_type": "markdown",
   "metadata": {},
   "source": [
    "Now we can calculate mean and variance for r2 and tau"
   ]
  },
  {
   "cell_type": "code",
   "execution_count": 168,
   "metadata": {},
   "outputs": [
    {
     "name": "stdout",
     "output_type": "stream",
     "text": [
      "0.11282454846579286\n",
      "0.21431461453916778\n",
      "0.0018006481871323046\n",
      "0.0026672948598997956\n"
     ]
    }
   ],
   "source": [
    "print(np.mean(cv_r2))\n",
    "print(np.mean(cv_tau))\n",
    "print(1.96 * np.var(cv_r2))  \n",
    "print(1.96 * np.var(cv_tau))"
   ]
  },
  {
   "cell_type": "markdown",
   "metadata": {},
   "source": [
    "### TASK 4\n",
    "Use the code in Section 6 to calculate the cross-validation values for the 'Full' model"
   ]
  },
  {
   "cell_type": "markdown",
   "metadata": {},
   "source": [
    "## Section 7 Spatial Estimation\n",
    "Later in Millington et al. (2010) models fit from the sample data (at 51 locations) were used to predict deer density across a subsection of the study area. We can do this in python using the functionality in the `rasterio` [package](https://rasterio.readthedocs.io/).\n",
    "\n",
    "Well... can we? The rasterio package doesn't have predict methods like for R and [others have simply suggested using R](https://stackoverflow.com/questions/48853484/how-to-structure-data-for-prediction-using-rasters-as-targets) Maybe use pyimpute? https://github.com/perrygeo/pyimpute This has some nice features and contains a lot of the functionality we want, _but_ it assumes the data used to fit models are from the study rasters themselves (indicated by points within the raster). In the current situation, we have already fit the model using point data and now simply want to apply the fitted model parameters to our explanatory rasters. So we can use some the nice code from pyimput t  \n",
    "\n",
    "Alternatively, use np arrays with np predict methods: see [here](https://stackoverflow.com/questions/29036179/what-is-the-python-equivalent-to-r-predict-function-for-linear-models) and [here](https://www.statsmodels.org/devel/examples/notebooks/generated/predict.html)\n",
    "\n",
    "How then how to do that for a multi-band raster (i.e., 3D array)? \n",
    "\n",
    "Is this useful? https://geohackweek.github.io/raster/\n",
    "\n",
    "Also https://github.com/nextgis/molusce\n"
   ]
  },
  {
   "cell_type": "markdown",
   "metadata": {},
   "source": [
    "First, we need to create a ndarray containing the point predictor "
   ]
  },
  {
   "cell_type": "code",
   "execution_count": null,
   "metadata": {},
   "outputs": [],
   "source": [
    "#from pyimpute import load_training_vector, load_targets\n",
    "\n",
    "#type(LOI200['logDD'])\n",
    "\n",
    "#type(np.array(LOI200['logDD']))\n",
    "\n",
    "print(LOI200.iloc[:,2:7].head())\n",
    "\n",
    "preds = []\n",
    "LOI200pred = LOI200.iloc[:,2:7]\n",
    "\n",
    "for name, data in LOI200pred.iteritems():\n",
    "    preds.append(data)\n",
    "\n",
    "train_xs = np.array(preds).T   \n",
    "\n",
    "print(type(train_xs))\n",
    "print(train_xs)\n",
    "\n",
    "train_y = np.array(LOI200['logDD'])\n",
    "print(train_y)\n",
    "#npLOI200 = LOI200.iloc[:,2:6].to_numpy()\n",
    "#print(npLOI200[1:6,:].T)"
   ]
  },
  {
   "cell_type": "code",
   "execution_count": 78,
   "metadata": {},
   "outputs": [
    {
     "name": "stdout",
     "output_type": "stream",
     "text": [
      "r2: 0.133864\n",
      "Cross validation\n",
      "KFold(n_splits=5, random_state=None, shuffle=False)\n"
     ]
    }
   ],
   "source": [
    "#import pyimpute as pyi\n",
    "import os\n",
    "import math\n",
    "import logging\n",
    "from sklearn import metrics\n",
    "from sklearn import model_selection\n",
    "from sklearn.model_selection import cross_val_score\n",
    "\n",
    "def evaluate_reg(clf, X, y, k=None, test_size=0.5, scoring=\"f1_weighted\", feature_names=None):\n",
    "    \"\"\"\n",
    "    Evalate the classifier on the FULL training dataset\n",
    "    This takes care of fitting on train/test splits\n",
    "    \"\"\"\n",
    "    X_train, X_test, y_train, y_true = model_selection.train_test_split(\n",
    "        X, y, test_size=test_size)\n",
    "\n",
    "    clf.fit(X_train, y_train)\n",
    "    y_pred = clf.predict(X_test)\n",
    "\n",
    "    print(\"r2: %f\" % metrics.r2_score(y_true, y_pred))\n",
    "    \n",
    "    \n",
    "    #print(\"Accuracy Score: %f\" % metrics.accuracy_score(y_true, y_pred))\n",
    "    #print()\n",
    "\n",
    "    #print(\"Classification report\")\n",
    "    #print(metrics.classification_report(y_true, y_pred))\n",
    "    #print()\n",
    "\n",
    "    #print(\"Confussion matrix\")\n",
    "    #print(metrics.confusion_matrix(y_true, y_pred))\n",
    "    #print()\n",
    "\n",
    "    #print(\"Feature importances\")\n",
    "    #if not feature_names:\n",
    "    #    feature_names = [\"%d\" % i for i in range(X.shape[1])]\n",
    "    #for f, imp in zip(feature_names, clf.feature_importances_):\n",
    "    #    print(\"%20s: %s\" % (f, round(imp * 100, 1)))\n",
    "    #print()\n",
    "    \n",
    "    \n",
    "\n",
    "    if k:\n",
    "        print(\"Cross validation\")\n",
    "        kf = model_selection.KFold(n_splits=k)\n",
    "        \n",
    "        print(kf)\n",
    "        \n",
    "        #scores = cross_val_score(clf, X, y, cv=kf, scoring='mean_squared_error')\n",
    "        #scores = model_selection.cross_val_score(clf, X, y, cv=kf, scoring=metrics.mean_squared_error)\n",
    "        #print(\"%d-fold Cross Validation Accuracy: %0.2f (+/- %0.2f)\" % (k, scores.mean(), scores.std()))\n",
    "        \n",
    "        \n",
    "evaluate_reg(regr, train_xs, train_y, k=5)"
   ]
  },
  {
   "cell_type": "code",
   "execution_count": null,
   "metadata": {},
   "outputs": [],
   "source": [
    "#https://automating-gis-processes.github.io/2016/Lesson7-read-raster.html\n",
    "\n",
    "#installing gdal too some effort: https://mothergeo-py.readthedocs.io/en/latest/development/how-to/gdal-ubuntu-pkg.html\n",
    "\n",
    "raster = gdal.Open('LOI200_dlc_km.asc')\n",
    "type(raster)\n",
    "#rasterArray = dlc.ReadAsArray()"
   ]
  },
  {
   "cell_type": "code",
   "execution_count": null,
   "metadata": {},
   "outputs": [],
   "source": [
    "# Projection\n",
    "print(\"Projection= \", raster.GetProjection())\n",
    "\n",
    "# Dimensions\n",
    "print(\"NCols= \", raster.RasterXSize)\n",
    "print(\"NRows= \", raster.RasterYSize)\n",
    "\n",
    "# Number of bands\n",
    "print(\"NBands= \", raster.RasterCount)\n",
    "\n",
    "# Metadata for the raster dataset\n",
    "print(\"MetaData= \", raster.GetMetadata())"
   ]
  },
  {
   "cell_type": "code",
   "execution_count": null,
   "metadata": {},
   "outputs": [],
   "source": [
    "# Read raster data as numeric array from GDAL Dataset\n",
    "rasterArray = raster.ReadAsArray()\n",
    "print(type(raster))\n",
    "print(type(rasterArray))"
   ]
  },
  {
   "cell_type": "code",
   "execution_count": null,
   "metadata": {},
   "outputs": [],
   "source": [
    "#using rasterio\n",
    "dlc = rasterio.open('LOI200_dlc_km.asc')\n",
    "type(dlc)   \n",
    "\n",
    "#https://rasterio.readthedocs.io/en/latest/topics/plotting.html\n",
    "from rasterio.plot import show\n",
    "rasterio.plot.show(dlc)\n",
    "\n",
    "#plt.imshow(dlc)"
   ]
  }
 ],
 "metadata": {
  "kernelspec": {
   "display_name": "Python 3",
   "language": "python",
   "name": "python3"
  },
  "language_info": {
   "codemirror_mode": {
    "name": "ipython",
    "version": 3
   },
   "file_extension": ".py",
   "mimetype": "text/x-python",
   "name": "python",
   "nbconvert_exporter": "python",
   "pygments_lexer": "ipython3",
   "version": "3.7.4"
  }
 },
 "nbformat": 4,
 "nbformat_minor": 2
}
